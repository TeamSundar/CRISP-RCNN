{
 "cells": [
  {
   "cell_type": "markdown",
   "metadata": {},
   "source": [
    "# position-wise mismatch tolerance and nucleotide preference"
   ]
  },
  {
   "cell_type": "code",
   "execution_count": 1,
   "metadata": {},
   "outputs": [],
   "source": [
    "import pandas as pd\n",
    "import numpy as np"
   ]
  },
  {
   "cell_type": "code",
   "execution_count": 102,
   "metadata": {},
   "outputs": [
    {
     "data": {
      "text/html": [
       "<div>\n",
       "<style scoped>\n",
       "    .dataframe tbody tr th:only-of-type {\n",
       "        vertical-align: middle;\n",
       "    }\n",
       "\n",
       "    .dataframe tbody tr th {\n",
       "        vertical-align: top;\n",
       "    }\n",
       "\n",
       "    .dataframe thead th {\n",
       "        text-align: right;\n",
       "    }\n",
       "</style>\n",
       "<table border=\"1\" class=\"dataframe\">\n",
       "  <thead>\n",
       "    <tr style=\"text-align: right;\">\n",
       "      <th></th>\n",
       "      <th>TARGET</th>\n",
       "      <th>CELL LINE</th>\n",
       "      <th>N-padded off-target</th>\n",
       "      <th>off-target label</th>\n",
       "      <th>N-padded target</th>\n",
       "      <th>target label</th>\n",
       "      <th>FREQ</th>\n",
       "      <th>Y</th>\n",
       "    </tr>\n",
       "  </thead>\n",
       "  <tbody>\n",
       "    <tr>\n",
       "      <td>0</td>\n",
       "      <td>EMX1</td>\n",
       "      <td>K562</td>\n",
       "      <td>GAGTCAGAGAGAGAAGAAGAAGAG</td>\n",
       "      <td>off_1</td>\n",
       "      <td>GAGTCCGAG-CAGAAGAAGAANGG</td>\n",
       "      <td>target_1</td>\n",
       "      <td>0.038835</td>\n",
       "      <td>1</td>\n",
       "    </tr>\n",
       "    <tr>\n",
       "      <td>1</td>\n",
       "      <td>EMX1</td>\n",
       "      <td>K562</td>\n",
       "      <td>GAGGCAGAGCAAGAAGAAAAAAGG</td>\n",
       "      <td>off_2</td>\n",
       "      <td>GAGTCCGAGC-AGAAGAAGAANGG</td>\n",
       "      <td>target_2</td>\n",
       "      <td>0.038835</td>\n",
       "      <td>1</td>\n",
       "    </tr>\n",
       "    <tr>\n",
       "      <td>2</td>\n",
       "      <td>HEK_2</td>\n",
       "      <td>HEK293</td>\n",
       "      <td>AAACACAAAGACATAGACCACTGG</td>\n",
       "      <td>off_3</td>\n",
       "      <td>GAACACAAAG-CATAGACTGCNGG</td>\n",
       "      <td>target_3</td>\n",
       "      <td>0.037714</td>\n",
       "      <td>1</td>\n",
       "    </tr>\n",
       "    <tr>\n",
       "      <td>3</td>\n",
       "      <td>HEK_2</td>\n",
       "      <td>HEK293</td>\n",
       "      <td>GTACACAAAACATAAGACTGCTGG</td>\n",
       "      <td>off_4</td>\n",
       "      <td>GAACACAAAGCAT-AGACTGCNGG</td>\n",
       "      <td>target_4</td>\n",
       "      <td>0.020571</td>\n",
       "      <td>1</td>\n",
       "    </tr>\n",
       "    <tr>\n",
       "      <td>4</td>\n",
       "      <td>HEK_2</td>\n",
       "      <td>K562</td>\n",
       "      <td>AAACACAAAGACATAGACCACTGG</td>\n",
       "      <td>off_5</td>\n",
       "      <td>GAACACAAAG-CATAGACTGCNGG</td>\n",
       "      <td>target_5</td>\n",
       "      <td>0.021798</td>\n",
       "      <td>1</td>\n",
       "    </tr>\n",
       "  </tbody>\n",
       "</table>\n",
       "</div>"
      ],
      "text/plain": [
       "  TARGET CELL LINE       N-padded off-target off-target label  \\\n",
       "0   EMX1      K562  GAGTCAGAGAGAGAAGAAGAAGAG            off_1   \n",
       "1   EMX1      K562  GAGGCAGAGCAAGAAGAAAAAAGG            off_2   \n",
       "2  HEK_2    HEK293  AAACACAAAGACATAGACCACTGG            off_3   \n",
       "3  HEK_2    HEK293  GTACACAAAACATAAGACTGCTGG            off_4   \n",
       "4  HEK_2      K562  AAACACAAAGACATAGACCACTGG            off_5   \n",
       "\n",
       "            N-padded target target label      FREQ  Y  \n",
       "0  GAGTCCGAG-CAGAAGAAGAANGG     target_1  0.038835  1  \n",
       "1  GAGTCCGAGC-AGAAGAAGAANGG     target_2  0.038835  1  \n",
       "2  GAACACAAAG-CATAGACTGCNGG     target_3  0.037714  1  \n",
       "3  GAACACAAAGCAT-AGACTGCNGG     target_4  0.020571  1  \n",
       "4  GAACACAAAG-CATAGACTGCNGG     target_5  0.021798  1  "
      ]
     },
     "execution_count": 102,
     "metadata": {},
     "output_type": "execute_result"
    }
   ],
   "source": [
    "df = pd.read_excel(r'D:\\IIT\\PhD projects\\feature-free NN model\\Datasets\\7 subset-only pos_trimmed.xlsx') #N-padded and aligned\n",
    "df.head()"
   ]
  },
  {
   "cell_type": "code",
   "execution_count": 3,
   "metadata": {},
   "outputs": [
    {
     "data": {
      "text/html": [
       "<div>\n",
       "<style scoped>\n",
       "    .dataframe tbody tr th:only-of-type {\n",
       "        vertical-align: middle;\n",
       "    }\n",
       "\n",
       "    .dataframe tbody tr th {\n",
       "        vertical-align: top;\n",
       "    }\n",
       "\n",
       "    .dataframe thead th {\n",
       "        text-align: right;\n",
       "    }\n",
       "</style>\n",
       "<table border=\"1\" class=\"dataframe\">\n",
       "  <thead>\n",
       "    <tr style=\"text-align: right;\">\n",
       "      <th></th>\n",
       "      <th>TARGET</th>\n",
       "      <th>CELL LINE</th>\n",
       "      <th>SEQUENCE</th>\n",
       "      <th>FREQ</th>\n",
       "      <th>POSITIVE / NEGATIVE</th>\n",
       "      <th>Target sequence</th>\n",
       "    </tr>\n",
       "  </thead>\n",
       "  <tbody>\n",
       "    <tr>\n",
       "      <td>0</td>\n",
       "      <td>EMX1</td>\n",
       "      <td>K562</td>\n",
       "      <td>GAGTCCGAGCAGAAGAAGAAGGG</td>\n",
       "      <td>1.000000</td>\n",
       "      <td>1</td>\n",
       "      <td>GAGTCCGAGCAGAAGAAGAANGG</td>\n",
       "    </tr>\n",
       "    <tr>\n",
       "      <td>1</td>\n",
       "      <td>EMX1</td>\n",
       "      <td>K562</td>\n",
       "      <td>AAGGCCAAGCAGAAGAGTAATGG</td>\n",
       "      <td>0.708738</td>\n",
       "      <td>1</td>\n",
       "      <td>GAGTCCGAGCAGAAGAAGAANGG</td>\n",
       "    </tr>\n",
       "    <tr>\n",
       "      <td>2</td>\n",
       "      <td>EMX1</td>\n",
       "      <td>K562</td>\n",
       "      <td>GAGGCCGAGCAGAAGAAAGACGG</td>\n",
       "      <td>0.650485</td>\n",
       "      <td>1</td>\n",
       "      <td>GAGTCCGAGCAGAAGAAGAANGG</td>\n",
       "    </tr>\n",
       "    <tr>\n",
       "      <td>3</td>\n",
       "      <td>EMX1</td>\n",
       "      <td>K562</td>\n",
       "      <td>GAGTCCTAGCAGGAGAAGAAGAG</td>\n",
       "      <td>0.601942</td>\n",
       "      <td>1</td>\n",
       "      <td>GAGTCCGAGCAGAAGAAGAANGG</td>\n",
       "    </tr>\n",
       "    <tr>\n",
       "      <td>4</td>\n",
       "      <td>EMX1</td>\n",
       "      <td>K562</td>\n",
       "      <td>GAAGTAGAGCAGAAGAAGAAGCG</td>\n",
       "      <td>0.582524</td>\n",
       "      <td>1</td>\n",
       "      <td>GAGTCCGAGCAGAAGAAGAANGG</td>\n",
       "    </tr>\n",
       "  </tbody>\n",
       "</table>\n",
       "</div>"
      ],
      "text/plain": [
       "  TARGET CELL LINE                 SEQUENCE      FREQ  POSITIVE / NEGATIVE  \\\n",
       "0   EMX1      K562  GAGTCCGAGCAGAAGAAGAAGGG  1.000000                    1   \n",
       "1   EMX1      K562  AAGGCCAAGCAGAAGAGTAATGG  0.708738                    1   \n",
       "2   EMX1      K562  GAGGCCGAGCAGAAGAAAGACGG  0.650485                    1   \n",
       "3   EMX1      K562  GAGTCCTAGCAGGAGAAGAAGAG  0.601942                    1   \n",
       "4   EMX1      K562  GAAGTAGAGCAGAAGAAGAAGCG  0.582524                    1   \n",
       "\n",
       "           Target sequence  \n",
       "0  GAGTCCGAGCAGAAGAAGAANGG  \n",
       "1  GAGTCCGAGCAGAAGAAGAANGG  \n",
       "2  GAGTCCGAGCAGAAGAAGAANGG  \n",
       "3  GAGTCCGAGCAGAAGAAGAANGG  \n",
       "4  GAGTCCGAGCAGAAGAAGAANGG  "
      ]
     },
     "execution_count": 3,
     "metadata": {},
     "output_type": "execute_result"
    }
   ],
   "source": [
    "dt = pd.read_excel(r'D:\\IIT\\PhD projects\\feature-free NN model\\Datasets\\5 subset-pos seq_cell_count.xlsx') #not N-padded\n",
    "dt.head()"
   ]
  },
  {
   "cell_type": "code",
   "execution_count": 4,
   "metadata": {},
   "outputs": [
    {
     "data": {
      "text/plain": [
       "7190"
      ]
     },
     "execution_count": 4,
     "metadata": {},
     "output_type": "execute_result"
    }
   ],
   "source": [
    "len(dt.loc[:][\"SEQUENCE\"])"
   ]
  },
  {
   "cell_type": "code",
   "execution_count": 5,
   "metadata": {},
   "outputs": [],
   "source": [
    "pos = []\n",
    "mm = []\n",
    "seq = []\n",
    "\n",
    "for i in range(7190):\n",
    "    if len(dt.loc[i][\"SEQUENCE\"]) ==len(dt.loc[i][\"Target sequence\"]):\n",
    "        for j in range(23):\n",
    "            pos.append(j)\n",
    "            seq.append(i)\n",
    "            if ((dt.loc[i][\"SEQUENCE\"][j] == dt.loc[i][\"Target sequence\"][j]) or dt.loc[i][\"Target sequence\"][j]=='N'):\n",
    "                mm.append(0)\n",
    "            else:\n",
    "                mm.append(1)"
   ]
  },
  {
   "cell_type": "code",
   "execution_count": 6,
   "metadata": {},
   "outputs": [
    {
     "name": "stdout",
     "output_type": "stream",
     "text": [
      "0 163254 22 0\n"
     ]
    }
   ],
   "source": [
    "print(pos[23], len(pos), max(pos), min(pos))"
   ]
  },
  {
   "cell_type": "code",
   "execution_count": 7,
   "metadata": {},
   "outputs": [],
   "source": [
    "p = []\n",
    "m = []\n",
    "n = []\n",
    "\n",
    "for i in range(23):\n",
    "    p.append(i)\n",
    "    count_match=0\n",
    "    count_mismatch=0\n",
    "    for j in range(len(pos)):\n",
    "        if (pos[j] == i and mm[j] == 0):\n",
    "            count_match+=1\n",
    "        elif (pos[j] == i and mm[j] == 1):\n",
    "            count_mismatch+=1\n",
    "    m.append(count_match)\n",
    "    n.append(count_mismatch)"
   ]
  },
  {
   "cell_type": "code",
   "execution_count": 8,
   "metadata": {},
   "outputs": [],
   "source": [
    "dt_out = pd.DataFrame(list(zip(p,m,n)), columns=['position', '#matches', '#mm'])\n",
    "dt_out.to_excel(r'D:\\IIT\\PhD projects\\feature-free NN model\\Datasets\\5-subset-pos-set_mismatch-tol-out.xlsx', index=False, header=True)"
   ]
  },
  {
   "cell_type": "markdown",
   "metadata": {},
   "source": [
    "# base-specific trend in original (unaligned) sequences"
   ]
  },
  {
   "cell_type": "code",
   "execution_count": 46,
   "metadata": {},
   "outputs": [],
   "source": [
    "#if nt does not occur at that position->0, no mismatch->1, mismatch-> mm nt appended\n",
    "\n",
    "pos = []\n",
    "a_m = [] #mismatches when A is target nucleotide\n",
    "g_m = []\n",
    "t_m = []\n",
    "c_m = []\n",
    "\n",
    "for i in range(7190):\n",
    "    if len(dt.loc[i][\"SEQUENCE\"]) ==len(dt.loc[i][\"Target sequence\"]):\n",
    "        for j in range(23):\n",
    "            pos.append(j)\n",
    "            \n",
    "            if ((dt.loc[i][\"Target sequence\"][j] == 'A') and (dt.loc[i][\"Target sequence\"][j] != dt.loc[i][\"SEQUENCE\"][j])):\n",
    "                a_m.append(dt.loc[i][\"SEQUENCE\"][j])\n",
    "                g_m.append(0)\n",
    "                c_m.append(0)\n",
    "                t_m.append(0)\n",
    "            \n",
    "            elif ((dt.loc[i][\"Target sequence\"][j] == 'G') and (dt.loc[i][\"Target sequence\"][j] != dt.loc[i][\"SEQUENCE\"][j])):\n",
    "                g_m.append(dt.loc[i][\"SEQUENCE\"][j])\n",
    "                c_m.append(0)\n",
    "                t_m.append(0)\n",
    "                a_m.append(0)\n",
    "                \n",
    "            elif ((dt.loc[i][\"Target sequence\"][j] == 'T') and (dt.loc[i][\"Target sequence\"][j] != dt.loc[i][\"SEQUENCE\"][j])):\n",
    "                t_m.append(dt.loc[i][\"SEQUENCE\"][j])\n",
    "                a_m.append(0)\n",
    "                g_m.append(0)\n",
    "                c_m.append(0)\n",
    "                \n",
    "            elif ((dt.loc[i][\"Target sequence\"][j] == 'C') and (dt.loc[i][\"Target sequence\"][j] != dt.loc[i][\"SEQUENCE\"][j])):\n",
    "                c_m.append(dt.loc[i][\"SEQUENCE\"][j])\n",
    "                a_m.append(0)\n",
    "                t_m.append(0)\n",
    "                g_m.append(0)\n",
    "            \n",
    "            elif ((dt.loc[i][\"Target sequence\"][j] == 'A') and (dt.loc[i][\"Target sequence\"][j] == dt.loc[i][\"SEQUENCE\"][j])): \n",
    "                a_m.append(1)\n",
    "                c_m.append(0)\n",
    "                t_m.append(0)\n",
    "                g_m.append(0)\n",
    "            elif ((dt.loc[i][\"Target sequence\"][j] == 'C') and (dt.loc[i][\"Target sequence\"][j] == dt.loc[i][\"SEQUENCE\"][j])): \n",
    "                c_m.append(1)\n",
    "                a_m.append(0)\n",
    "                t_m.append(0)\n",
    "                g_m.append(0)\n",
    "            elif ((dt.loc[i][\"Target sequence\"][j] == 'G') and (dt.loc[i][\"Target sequence\"][j] == dt.loc[i][\"SEQUENCE\"][j])): \n",
    "                g_m.append(1)\n",
    "                c_m.append(0)\n",
    "                a_m.append(0)\n",
    "                t_m.append(0)\n",
    "            elif ((dt.loc[i][\"Target sequence\"][j] == 'T') and (dt.loc[i][\"Target sequence\"][j] == dt.loc[i][\"SEQUENCE\"][j])): \n",
    "                t_m.append(1)\n",
    "                c_m.append(0)\n",
    "                a_m.append(0)\n",
    "                g_m.append(0)\n",
    "            \n",
    "            else:\n",
    "                c_m.append(0)\n",
    "                a_m.append(0)\n",
    "                t_m.append(0)\n",
    "                g_m.append(0)\n",
    "                "
   ]
  },
  {
   "cell_type": "code",
   "execution_count": 47,
   "metadata": {},
   "outputs": [],
   "source": [
    "dt_out = pd.DataFrame(list(zip(pos,a_m,c_m,g_m,t_m)), columns=['position', 'A_mm', 'C_mm', 'G_mm', 'T_mm'])\n",
    "dt_out.to_excel(r'D:\\IIT\\PhD projects\\feature-free NN model\\Datasets\\5-subset-pos-set_nt-mismatch-tol-out.xlsx', index=False, header=True)"
   ]
  },
  {
   "cell_type": "code",
   "execution_count": 57,
   "metadata": {},
   "outputs": [],
   "source": [
    "#compile base-specific trend when target has nt T at each position\n",
    "T = []\n",
    "A = []\n",
    "G = []\n",
    "C = []\n",
    "I = []\n",
    "\n",
    "for i in range(23):\n",
    "    a = 0\n",
    "    c = 0\n",
    "    g = 0\n",
    "    t = 0\n",
    "    for j in range(len(pos)):\n",
    "        if (pos[j]==i and t_m[j]!=0):\n",
    "            if (t_m[j]==1): t+=1\n",
    "            elif (t_m[j] == 'A'): a+=1\n",
    "            elif (t_m[j] == 'C'): c+=1\n",
    "            elif (t_m[j] == 'G'): g+=1\n",
    "        \n",
    "    I.append(i+1)\n",
    "    A.append(a)\n",
    "    C.append(c)\n",
    "    G.append(g)\n",
    "    T.append(t)\n",
    "            "
   ]
  },
  {
   "cell_type": "code",
   "execution_count": 58,
   "metadata": {},
   "outputs": [],
   "source": [
    "dt_out = pd.DataFrame(list(zip(I,A,C,G,T)), columns=['position','A_mm', 'C_mm', 'G_mm', 'T'])\n",
    "dt_out.to_excel(r'D:\\IIT\\PhD projects\\feature-free NN model\\Datasets\\5-subset-pos-set_T-nt-mismatch-tol-out.xlsx', index=False, header=True)"
   ]
  },
  {
   "cell_type": "code",
   "execution_count": null,
   "metadata": {},
   "outputs": [],
   "source": []
  },
  {
   "cell_type": "markdown",
   "metadata": {},
   "source": [
    "# frequency weighted mismatch tolerance"
   ]
  },
  {
   "cell_type": "code",
   "execution_count": 59,
   "metadata": {},
   "outputs": [],
   "source": [
    "new = [] #sequences occurring as many times as their freq\n",
    "target = [] #for reference target sequence\n",
    "label = []\n",
    "\n",
    "for i in range(7190):\n",
    "    n=int(round(dt.loc[i]['FREQ']*1000))\n",
    "    #n=int(round(df.loc[i]['Norm reads']*500))\n",
    "    #n=int(round(df.loc[i]['Norm reads']*300))\n",
    "    for j in range(n):\n",
    "        new.append(dt.loc[i]['SEQUENCE'])\n",
    "        target.append(dt.loc[i]['Target sequence'])\n",
    "        label.append(i)"
   ]
  },
  {
   "cell_type": "code",
   "execution_count": 60,
   "metadata": {},
   "outputs": [
    {
     "data": {
      "text/plain": [
       "'GAGTCCGAGCAGAAGAAGAANGG'"
      ]
     },
     "execution_count": 60,
     "metadata": {},
     "output_type": "execute_result"
    }
   ],
   "source": [
    "target[8]"
   ]
  },
  {
   "cell_type": "code",
   "execution_count": 61,
   "metadata": {},
   "outputs": [],
   "source": [
    "pos = []\n",
    "mm = []\n",
    "seq = []\n",
    "tnt = [] #target nt\n",
    "ont = [] #off-target nt\n",
    "\n",
    "for i in range(len(target)):\n",
    "    if len(new[i]) ==len(target[i]):\n",
    "        for j in range(23):\n",
    "            pos.append(j)\n",
    "            seq.append(i)\n",
    "            tnt.append(target[i][j])\n",
    "            ont.append(new[i][j])\n",
    "            if ((new[i][j] == target[i][j]) or target[i][j]=='N'):\n",
    "                mm.append(0)\n",
    "            else:\n",
    "                mm.append(1)"
   ]
  },
  {
   "cell_type": "code",
   "execution_count": 62,
   "metadata": {},
   "outputs": [],
   "source": [
    "p = []\n",
    "m = []\n",
    "n = []\n",
    "\n",
    "for i in range(23):\n",
    "    p.append(i)\n",
    "    count_match=0\n",
    "    count_mismatch=0\n",
    "    for j in range(len(pos)):\n",
    "        if (pos[j] == i and mm[j] == 0):\n",
    "            count_match+=1\n",
    "        elif (pos[j] == i and mm[j] == 1):\n",
    "            count_mismatch+=1\n",
    "    m.append(count_match)\n",
    "    n.append(count_mismatch)"
   ]
  },
  {
   "cell_type": "code",
   "execution_count": 63,
   "metadata": {},
   "outputs": [],
   "source": [
    "wt_dt_out = pd.DataFrame(list(zip(p,m,n)), columns=['position', '#matches', '#mm'])\n",
    "wt_dt_out.to_excel(r'D:\\IIT\\PhD projects\\feature-free NN model\\Datasets\\5-subset-pos-set_weighted-mismatch-tol-out.xlsx', index=False, header=True)"
   ]
  },
  {
   "cell_type": "markdown",
   "metadata": {},
   "source": [
    "# weighted base-specific trend"
   ]
  },
  {
   "cell_type": "code",
   "execution_count": 67,
   "metadata": {},
   "outputs": [],
   "source": [
    "pos = []\n",
    "a_m = [] #mismatches when A is target nucleotide\n",
    "g_m = []\n",
    "t_m = []\n",
    "c_m = []\n",
    "\n",
    "for i in range(len(new)):\n",
    "    if len(new[i]) ==len(target[i]):\n",
    "        for j in range(23):\n",
    "            pos.append(j)\n",
    "            \n",
    "            if ((target[i][j] == 'A') and (target[i][j] != new[i][j])):\n",
    "                a_m.append(new[i][j])\n",
    "                g_m.append(0)\n",
    "                c_m.append(0)\n",
    "                t_m.append(0)\n",
    "            \n",
    "            elif ((target[i][j] == 'G') and (target[i][j] != new[i][j])):\n",
    "                g_m.append(new[i][j])\n",
    "                c_m.append(0)\n",
    "                t_m.append(0)\n",
    "                a_m.append(0)\n",
    "                \n",
    "            elif ((target[i][j] == 'T') and (target[i][j] != new[i][j])):\n",
    "                t_m.append(new[i][j])\n",
    "                a_m.append(0)\n",
    "                g_m.append(0)\n",
    "                c_m.append(0)\n",
    "                \n",
    "            elif ((target[i][j] == 'C') and (target[i][j] != new[i][j])):\n",
    "                c_m.append(new[i][j])\n",
    "                a_m.append(0)\n",
    "                t_m.append(0)\n",
    "                g_m.append(0)\n",
    "                \n",
    "            elif ((target[i][j] == 'C') and (target[i][j] == new[i][j])):\n",
    "                c_m.append(1)\n",
    "                a_m.append(0)\n",
    "                t_m.append(0)\n",
    "                g_m.append(0)\n",
    "                \n",
    "            elif ((target[i][j] == 'A') and (target[i][j] == new[i][j])):\n",
    "                a_m.append(1)\n",
    "                g_m.append(0)\n",
    "                c_m.append(0)\n",
    "                t_m.append(0)\n",
    "            \n",
    "            elif ((target[i][j] == 'G') and (target[i][j] == new[i][j])):\n",
    "                g_m.append(1)\n",
    "                c_m.append(0)\n",
    "                t_m.append(0)\n",
    "                a_m.append(0)\n",
    "                \n",
    "            elif ((target[i][j] == 'T') and (target[i][j] == new[i][j])):\n",
    "                t_m.append(1)\n",
    "                a_m.append(0)\n",
    "                g_m.append(0)\n",
    "                c_m.append(0)\n",
    "            \n",
    "            else:\n",
    "                c_m.append(0)\n",
    "                a_m.append(0)\n",
    "                t_m.append(0)\n",
    "                g_m.append(0)\n",
    "                "
   ]
  },
  {
   "cell_type": "code",
   "execution_count": 68,
   "metadata": {},
   "outputs": [],
   "source": [
    "dt_out = pd.DataFrame(list(zip(pos,a_m,c_m,g_m,t_m)), columns=['position', 'A_mm', 'C_mm', 'G_mm', 'T_mm'])\n",
    "dt_out.to_csv(r'D:\\IIT\\PhD projects\\feature-free NN model\\Datasets\\5-subset-pos-set_nt-weighted-mismatch-tol-out.csv', index=False, header=True)"
   ]
  },
  {
   "cell_type": "code",
   "execution_count": 77,
   "metadata": {},
   "outputs": [],
   "source": [
    "#compile base-specific trend when target has nt G at each position\n",
    "T = []\n",
    "A = []\n",
    "G = []\n",
    "C = []\n",
    "I = []\n",
    "\n",
    "for i in range(23):\n",
    "    a = 0\n",
    "    c = 0\n",
    "    g = 0\n",
    "    t = 0\n",
    "    for j in range(len(pos)):\n",
    "        if (pos[j]==i and g_m[j]!=0):\n",
    "            if (g_m[j]==1): g+=1\n",
    "            elif (g_m[j] == 'C'): c+=1\n",
    "            elif (g_m[j] == 'A'): a+=1\n",
    "            elif (g_m[j] == 'T'): t+=1\n",
    "        \n",
    "    I.append(i+1)\n",
    "    A.append(a)\n",
    "    C.append(c)\n",
    "    G.append(g)\n",
    "    T.append(t)\n",
    "            "
   ]
  },
  {
   "cell_type": "code",
   "execution_count": 78,
   "metadata": {},
   "outputs": [],
   "source": [
    "dt_out = pd.DataFrame(list(zip(I,A,C,G,T)), columns=['position','A_mm', 'C_mm', 'G', 'T_mm'])\n",
    "dt_out.to_excel(r'D:\\IIT\\PhD projects\\feature-free NN model\\Datasets\\5-subset-pos-set_wt-G-nt-mismatch-tol-out.xlsx', index=False, header=True)"
   ]
  },
  {
   "cell_type": "markdown",
   "metadata": {},
   "source": [
    "# Same analysis as above, but for aligned sequences\n",
    "## to incorporate indel information"
   ]
  },
  {
   "cell_type": "code",
   "execution_count": 97,
   "metadata": {},
   "outputs": [
    {
     "data": {
      "text/html": [
       "<div>\n",
       "<style scoped>\n",
       "    .dataframe tbody tr th:only-of-type {\n",
       "        vertical-align: middle;\n",
       "    }\n",
       "\n",
       "    .dataframe tbody tr th {\n",
       "        vertical-align: top;\n",
       "    }\n",
       "\n",
       "    .dataframe thead th {\n",
       "        text-align: right;\n",
       "    }\n",
       "</style>\n",
       "<table border=\"1\" class=\"dataframe\">\n",
       "  <thead>\n",
       "    <tr style=\"text-align: right;\">\n",
       "      <th></th>\n",
       "      <th>TARGET</th>\n",
       "      <th>CELL LINE</th>\n",
       "      <th>N-padded off-target</th>\n",
       "      <th>off-target label</th>\n",
       "      <th>N-padded target</th>\n",
       "      <th>target label</th>\n",
       "      <th>FREQ</th>\n",
       "      <th>Y</th>\n",
       "    </tr>\n",
       "  </thead>\n",
       "  <tbody>\n",
       "    <tr>\n",
       "      <td>0</td>\n",
       "      <td>EMX1</td>\n",
       "      <td>K562</td>\n",
       "      <td>GAGTCAGAGAGAGAAGAAGAAGAG</td>\n",
       "      <td>off_1</td>\n",
       "      <td>GAGTCCGAG-CAGAAGAAGAANGG</td>\n",
       "      <td>target_1</td>\n",
       "      <td>0.038835</td>\n",
       "      <td>1</td>\n",
       "    </tr>\n",
       "    <tr>\n",
       "      <td>1</td>\n",
       "      <td>EMX1</td>\n",
       "      <td>K562</td>\n",
       "      <td>GAGGCAGAGCAAGAAGAAAAAAGG</td>\n",
       "      <td>off_2</td>\n",
       "      <td>GAGTCCGAGC-AGAAGAAGAANGG</td>\n",
       "      <td>target_2</td>\n",
       "      <td>0.038835</td>\n",
       "      <td>1</td>\n",
       "    </tr>\n",
       "    <tr>\n",
       "      <td>2</td>\n",
       "      <td>HEK_2</td>\n",
       "      <td>HEK293</td>\n",
       "      <td>AAACACAAAGACATAGACCACTGG</td>\n",
       "      <td>off_3</td>\n",
       "      <td>GAACACAAAG-CATAGACTGCNGG</td>\n",
       "      <td>target_3</td>\n",
       "      <td>0.037714</td>\n",
       "      <td>1</td>\n",
       "    </tr>\n",
       "    <tr>\n",
       "      <td>3</td>\n",
       "      <td>HEK_2</td>\n",
       "      <td>HEK293</td>\n",
       "      <td>GTACACAAAACATAAGACTGCTGG</td>\n",
       "      <td>off_4</td>\n",
       "      <td>GAACACAAAGCAT-AGACTGCNGG</td>\n",
       "      <td>target_4</td>\n",
       "      <td>0.020571</td>\n",
       "      <td>1</td>\n",
       "    </tr>\n",
       "    <tr>\n",
       "      <td>4</td>\n",
       "      <td>HEK_2</td>\n",
       "      <td>K562</td>\n",
       "      <td>AAACACAAAGACATAGACCACTGG</td>\n",
       "      <td>off_5</td>\n",
       "      <td>GAACACAAAG-CATAGACTGCNGG</td>\n",
       "      <td>target_5</td>\n",
       "      <td>0.021798</td>\n",
       "      <td>1</td>\n",
       "    </tr>\n",
       "  </tbody>\n",
       "</table>\n",
       "</div>"
      ],
      "text/plain": [
       "  TARGET CELL LINE       N-padded off-target off-target label  \\\n",
       "0   EMX1      K562  GAGTCAGAGAGAGAAGAAGAAGAG            off_1   \n",
       "1   EMX1      K562  GAGGCAGAGCAAGAAGAAAAAAGG            off_2   \n",
       "2  HEK_2    HEK293  AAACACAAAGACATAGACCACTGG            off_3   \n",
       "3  HEK_2    HEK293  GTACACAAAACATAAGACTGCTGG            off_4   \n",
       "4  HEK_2      K562  AAACACAAAGACATAGACCACTGG            off_5   \n",
       "\n",
       "            N-padded target target label      FREQ  Y  \n",
       "0  GAGTCCGAG-CAGAAGAAGAANGG     target_1  0.038835  1  \n",
       "1  GAGTCCGAGC-AGAAGAAGAANGG     target_2  0.038835  1  \n",
       "2  GAACACAAAG-CATAGACTGCNGG     target_3  0.037714  1  \n",
       "3  GAACACAAAGCAT-AGACTGCNGG     target_4  0.020571  1  \n",
       "4  GAACACAAAG-CATAGACTGCNGG     target_5  0.021798  1  "
      ]
     },
     "execution_count": 97,
     "metadata": {},
     "output_type": "execute_result"
    }
   ],
   "source": [
    "df.head()"
   ]
  },
  {
   "cell_type": "code",
   "execution_count": 98,
   "metadata": {},
   "outputs": [],
   "source": [
    "r, c = df.shape"
   ]
  },
  {
   "cell_type": "code",
   "execution_count": 120,
   "metadata": {},
   "outputs": [
    {
     "data": {
      "text/plain": [
       "'N'"
      ]
     },
     "execution_count": 120,
     "metadata": {},
     "output_type": "execute_result"
    }
   ],
   "source": [
    "df.iloc[1][4][21]"
   ]
  },
  {
   "cell_type": "code",
   "execution_count": 121,
   "metadata": {},
   "outputs": [],
   "source": [
    "pos = []\n",
    "mm = []\n",
    "seq = []\n",
    "\n",
    "for i in range(r):\n",
    "        for j in range(len(df.iloc[i][2])):\n",
    "            pos.append(j)\n",
    "            seq.append(i)\n",
    "            if ((df.iloc[i][2][j] == df.loc[i][4][j]) or j == 21):\n",
    "                mm.append(0)\n",
    "            elif (df.iloc[i][2][j]=='-' or df.iloc[i][4][j]=='-'):\n",
    "                mm.append(2)\n",
    "            else:\n",
    "                mm.append(1)"
   ]
  },
  {
   "cell_type": "code",
   "execution_count": 122,
   "metadata": {},
   "outputs": [
    {
     "name": "stdout",
     "output_type": "stream",
     "text": [
      "6 172560 23 2\n"
     ]
    }
   ],
   "source": [
    "print(pos[30], len(pos), max(pos), max(mm))"
   ]
  },
  {
   "cell_type": "code",
   "execution_count": 123,
   "metadata": {},
   "outputs": [],
   "source": [
    "p = []\n",
    "m = []\n",
    "n = []\n",
    "d = []\n",
    "\n",
    "for i in range(24):\n",
    "    p.append(i)\n",
    "    count_match=0\n",
    "    count_mismatch=0\n",
    "    count_indel=0\n",
    "    for j in range(len(pos)):\n",
    "        if (pos[j] == i and mm[j] == 0):\n",
    "            count_match+=1\n",
    "        elif (pos[j] == i and mm[j] == 1):\n",
    "            count_mismatch+=1\n",
    "        elif (pos[j] == i and mm[j] == 2):\n",
    "            count_indel+=1\n",
    "    m.append(count_match)\n",
    "    n.append(count_mismatch)\n",
    "    d.append(count_indel)"
   ]
  },
  {
   "cell_type": "code",
   "execution_count": 124,
   "metadata": {},
   "outputs": [],
   "source": [
    "df_out = pd.DataFrame(list(zip(p,m,n,d)), columns=['position', '#matches', '#mm', '#indels'])\n",
    "df_out.to_excel(r'D:\\IIT\\PhD projects\\feature-free NN model\\Datasets\\7-subset-pos-set_mismatch-tol-out.xlsx', index=False, header=True)"
   ]
  },
  {
   "cell_type": "markdown",
   "metadata": {},
   "source": [
    "# base-specific trend "
   ]
  },
  {
   "cell_type": "code",
   "execution_count": 148,
   "metadata": {},
   "outputs": [],
   "source": [
    "#if nt does not occur at that position->0, no mismatch->1, mismatch-> mm nt appended\n",
    "\n",
    "pos = []\n",
    "a_m = [] #mismatches when A is target nucleotide\n",
    "g_m = []\n",
    "t_m = []\n",
    "c_m = []\n",
    "\n",
    "for i in range(r):\n",
    "        for j in range(24):\n",
    "            pos.append(j)\n",
    "            \n",
    "            if ((df.iloc[i][4][j] == 'A') and (df.iloc[i][4][j] != df.iloc[i][2][j])):\n",
    "                a_m.append(df.iloc[i][2][j])\n",
    "                g_m.append(0)\n",
    "                c_m.append(0)\n",
    "                t_m.append(0)\n",
    "            \n",
    "            elif ((df.iloc[i][4][j] == 'G') and (df.iloc[i][4][j] != df.iloc[i][2][j])):\n",
    "                g_m.append(df.iloc[i][2][j])\n",
    "                c_m.append(0)\n",
    "                t_m.append(0)\n",
    "                a_m.append(0)\n",
    "                \n",
    "            elif ((df.iloc[i][4][j] == 'T') and (df.iloc[i][4][j] != df.iloc[i][2][j])):\n",
    "                t_m.append(df.iloc[i][2][j])\n",
    "                a_m.append(0)\n",
    "                g_m.append(0)\n",
    "                c_m.append(0)\n",
    "                \n",
    "            elif ((df.iloc[i][4][j] == 'C') and (df.iloc[i][4][j] != df.iloc[i][2][j])):\n",
    "                c_m.append(df.iloc[i][2][j])\n",
    "                a_m.append(0)\n",
    "                t_m.append(0)\n",
    "                g_m.append(0)\n",
    "            \n",
    "            elif ((df.iloc[i][4][j] == 'A') and (df.iloc[i][4][j] == df.iloc[i][2][j])): \n",
    "                a_m.append(1)\n",
    "                c_m.append(0)\n",
    "                t_m.append(0)\n",
    "                g_m.append(0)\n",
    "            elif ((df.iloc[i][4][j] == 'C') and (df.iloc[i][4][j] == df.iloc[i][2][j])): \n",
    "                c_m.append(1)\n",
    "                a_m.append(0)\n",
    "                t_m.append(0)\n",
    "                g_m.append(0)\n",
    "            elif ((df.iloc[i][4][j] == 'G') and (df.iloc[i][4][j] == df.iloc[i][2][j])): \n",
    "                g_m.append(1)\n",
    "                c_m.append(0)\n",
    "                a_m.append(0)\n",
    "                t_m.append(0)\n",
    "            elif ((df.iloc[i][4][j] == 'T') and (df.iloc[i][4][j] == df.iloc[i][2][j])): \n",
    "                t_m.append(1)\n",
    "                c_m.append(0)\n",
    "                a_m.append(0)\n",
    "                g_m.append(0)\n",
    "            \n",
    "            else:\n",
    "                c_m.append(0)\n",
    "                a_m.append(0)\n",
    "                t_m.append(0)\n",
    "                g_m.append(0)"
   ]
  },
  {
   "cell_type": "code",
   "execution_count": 149,
   "metadata": {},
   "outputs": [],
   "source": [
    "df_out = pd.DataFrame(list(zip(pos,a_m,c_m,g_m,t_m)), columns=['position', 'A_mm', 'C_mm', 'G_mm', 'T_mm'])\n",
    "df_out.to_excel(r'D:\\IIT\\PhD projects\\feature-free NN model\\Datasets\\7-subset-pos-set_nt-mismatch-tol-out.xlsx', index=False, header=True)"
   ]
  },
  {
   "cell_type": "code",
   "execution_count": 159,
   "metadata": {},
   "outputs": [],
   "source": [
    "#compile base-specific trend when target has nt T at each position\n",
    "T = []\n",
    "A = []\n",
    "G = []\n",
    "C = []\n",
    "I = []\n",
    "D = []\n",
    "\n",
    "for i in range(24):\n",
    "    a = 0\n",
    "    c = 0\n",
    "    g = 0\n",
    "    t = 0\n",
    "    d = 0\n",
    "    for j in range(len(pos)):\n",
    "        if (pos[j]==i and t_m[j]!=0):\n",
    "            if (t_m[j]==1): t+=1\n",
    "            elif (t_m[j]=='-'): d+=1\n",
    "            elif (t_m[j] == 'A'): a+=1\n",
    "            elif (t_m[j] == 'C'): c+=1\n",
    "            elif (t_m[j] == 'G'): g+=1\n",
    "        \n",
    "    I.append(i+1)\n",
    "    A.append(a)\n",
    "    C.append(c)\n",
    "    G.append(g)\n",
    "    T.append(t)\n",
    "    D.append(d)"
   ]
  },
  {
   "cell_type": "code",
   "execution_count": 160,
   "metadata": {},
   "outputs": [],
   "source": [
    "df_out = pd.DataFrame(list(zip(I,A,C,G,T,D)), columns=['position','A_mm', 'C_mm', 'G_mm', 'T',\"indels\"])\n",
    "df_out.to_excel(r'D:\\IIT\\PhD projects\\feature-free NN model\\Datasets\\7-subset-pos-set_T-nt-mismatch-tol-out.xlsx', index=False, header=True)"
   ]
  },
  {
   "cell_type": "markdown",
   "metadata": {},
   "source": [
    "# frequency weighted mismatch tolerance for aligned seqs"
   ]
  },
  {
   "cell_type": "code",
   "execution_count": 142,
   "metadata": {},
   "outputs": [],
   "source": [
    "new = [] #sequences occurring as many times as their freq\n",
    "target = [] #for reference target sequence\n",
    "label = []\n",
    "\n",
    "for i in range(r):\n",
    "    n=int(round(df.loc[i]['FREQ']*1000))\n",
    "    #n=int(round(df.loc[i]['Norm reads']*500))\n",
    "    #n=int(round(df.loc[i]['Norm reads']*300))\n",
    "    for j in range(n):\n",
    "        new.append(df.iloc[i][2])\n",
    "        target.append(df.iloc[i][4])\n",
    "        label.append(i)"
   ]
  },
  {
   "cell_type": "code",
   "execution_count": 143,
   "metadata": {},
   "outputs": [],
   "source": [
    "pos = []\n",
    "mm = []\n",
    "seq = []\n",
    "tnt = [] #target nt\n",
    "ont = [] #off-target nt\n",
    "\n",
    "for i in range(len(target)):\n",
    "    if len(new[i]) ==len(target[i]):\n",
    "        for j in range(24):\n",
    "            pos.append(j)\n",
    "            seq.append(i)\n",
    "            tnt.append(target[i][j])\n",
    "            ont.append(new[i][j])\n",
    "            if ((new[i][j] == target[i][j]) or target[i][j]=='N'):\n",
    "                mm.append(0)\n",
    "            elif (target[i][j]=='-' or new[i][j]=='-'):\n",
    "                mm.append(2)\n",
    "            else: \n",
    "                mm.append(1)"
   ]
  },
  {
   "cell_type": "code",
   "execution_count": 145,
   "metadata": {},
   "outputs": [],
   "source": [
    "p = []\n",
    "m = []\n",
    "n = []\n",
    "d = []\n",
    "\n",
    "for i in range(24):\n",
    "    p.append(i)\n",
    "    count_match=0\n",
    "    count_mismatch=0\n",
    "    count_indel=0\n",
    "    for j in range(len(pos)):\n",
    "        if (pos[j] == i and mm[j] == 0):\n",
    "            count_match+=1\n",
    "        elif (pos[j] == i and mm[j] == 1):\n",
    "            count_mismatch+=1\n",
    "        elif (pos[j] == i and mm[j] == 2):\n",
    "            count_indel+=1\n",
    "    m.append(count_match)\n",
    "    n.append(count_mismatch)\n",
    "    d.append(count_indel)"
   ]
  },
  {
   "cell_type": "code",
   "execution_count": 146,
   "metadata": {},
   "outputs": [],
   "source": [
    "wt_df_out = pd.DataFrame(list(zip(p,m,n,d)), columns=['position', '#matches', '#mm','#indels'])\n",
    "wt_df_out.to_excel(r'D:\\IIT\\PhD projects\\feature-free NN model\\Datasets\\7-subset-pos-set_weighted-mismatch-tol-out.xlsx', index=False, header=True)"
   ]
  },
  {
   "cell_type": "markdown",
   "metadata": {},
   "source": [
    "# weighted aligned seq base-specific trend"
   ]
  },
  {
   "cell_type": "code",
   "execution_count": 161,
   "metadata": {},
   "outputs": [],
   "source": [
    "pos = []\n",
    "a_m = [] #mismatches when A is target nucleotide\n",
    "g_m = []\n",
    "t_m = []\n",
    "c_m = []\n",
    "\n",
    "for i in range(r):\n",
    "        for j in range(24):\n",
    "            pos.append(j)\n",
    "            \n",
    "            if ((df.iloc[i][4][j] == 'A') and (df.iloc[i][4][j] != df.iloc[i][2][j])):\n",
    "                a_m.append(df.iloc[i][2][j])\n",
    "                g_m.append(0)\n",
    "                c_m.append(0)\n",
    "                t_m.append(0)\n",
    "            \n",
    "            elif ((df.iloc[i][4][j] == 'G') and (df.iloc[i][4][j] != df.iloc[i][2][j])):\n",
    "                g_m.append(df.iloc[i][2][j])\n",
    "                c_m.append(0)\n",
    "                t_m.append(0)\n",
    "                a_m.append(0)\n",
    "                \n",
    "            elif ((df.iloc[i][4][j] == 'T') and (df.iloc[i][4][j] != df.iloc[i][2][j])):\n",
    "                t_m.append(df.iloc[i][2][j])\n",
    "                a_m.append(0)\n",
    "                g_m.append(0)\n",
    "                c_m.append(0)\n",
    "                \n",
    "            elif ((df.iloc[i][4][j] == 'C') and (df.iloc[i][4][j] != df.iloc[i][2][j])):\n",
    "                c_m.append(df.iloc[i][2][j])\n",
    "                a_m.append(0)\n",
    "                t_m.append(0)\n",
    "                g_m.append(0)\n",
    "            \n",
    "            elif ((df.iloc[i][4][j] == 'A') and (df.iloc[i][4][j] == df.iloc[i][2][j])): \n",
    "                a_m.append(1)\n",
    "                c_m.append(0)\n",
    "                t_m.append(0)\n",
    "                g_m.append(0)\n",
    "            elif ((df.iloc[i][4][j] == 'C') and (df.iloc[i][4][j] == df.iloc[i][2][j])): \n",
    "                c_m.append(1)\n",
    "                a_m.append(0)\n",
    "                t_m.append(0)\n",
    "                g_m.append(0)\n",
    "            elif ((df.iloc[i][4][j] == 'G') and (df.iloc[i][4][j] == df.iloc[i][2][j])): \n",
    "                g_m.append(1)\n",
    "                c_m.append(0)\n",
    "                a_m.append(0)\n",
    "                t_m.append(0)\n",
    "            elif ((df.iloc[i][4][j] == 'T') and (df.iloc[i][4][j] == df.iloc[i][2][j])): \n",
    "                t_m.append(1)\n",
    "                c_m.append(0)\n",
    "                a_m.append(0)\n",
    "                g_m.append(0)\n",
    "            \n",
    "            else:\n",
    "                c_m.append(0)\n",
    "                a_m.append(0)\n",
    "                t_m.append(0)\n",
    "                g_m.append(0)"
   ]
  },
  {
   "cell_type": "code",
   "execution_count": 162,
   "metadata": {},
   "outputs": [],
   "source": [
    "df_out = pd.DataFrame(list(zip(pos,a_m,c_m,g_m,t_m)), columns=['position', 'A_mm', 'C_mm', 'G_mm', 'T_mm'])\n",
    "df_out.to_csv(r'D:\\IIT\\PhD projects\\feature-free NN model\\Datasets\\7-subset-pos-set_nt-weighted-mismatch-tol-out.csv', index=False, header=True)"
   ]
  },
  {
   "cell_type": "code",
   "execution_count": 171,
   "metadata": {},
   "outputs": [],
   "source": [
    "#compile base-specific trend when target has nt G at each position\n",
    "T = []\n",
    "A = []\n",
    "G = []\n",
    "C = []\n",
    "I = []\n",
    "D = []\n",
    "\n",
    "for i in range(24):\n",
    "    a = 0\n",
    "    c = 0\n",
    "    g = 0\n",
    "    t = 0\n",
    "    d = 0\n",
    "    for j in range(len(pos)):\n",
    "        if (pos[j]==i and g_m[j]!=0):\n",
    "            if (g_m[j]==1): g+=1\n",
    "            elif (g_m[j]=='-'): d+=1\n",
    "            elif (g_m[j] == 'T'): t+=1\n",
    "            elif (g_m[j] == 'C'): c+=1\n",
    "            elif (g_m[j] == 'A'): a+=1\n",
    "        \n",
    "    I.append(i+1)\n",
    "    A.append(a)\n",
    "    C.append(c)\n",
    "    G.append(g)\n",
    "    T.append(t)\n",
    "    D.append(d)"
   ]
  },
  {
   "cell_type": "code",
   "execution_count": 172,
   "metadata": {},
   "outputs": [],
   "source": [
    "df_out = pd.DataFrame(list(zip(I,A,C,G,T,D)), columns=['position','A_mm', 'C_mm', 'G', 'T_mm',\"indels\"])\n",
    "df_out.to_excel(r'D:\\IIT\\PhD projects\\feature-free NN model\\Datasets\\7-subset-pos-set_G-weighted-nt-mismatch-tol-out.xlsx', index=False, header=True)"
   ]
  },
  {
   "cell_type": "code",
   "execution_count": null,
   "metadata": {},
   "outputs": [],
   "source": []
  }
 ],
 "metadata": {
  "kernelspec": {
   "display_name": "Python 3",
   "language": "python",
   "name": "python3"
  },
  "language_info": {
   "codemirror_mode": {
    "name": "ipython",
    "version": 3
   },
   "file_extension": ".py",
   "mimetype": "text/x-python",
   "name": "python",
   "nbconvert_exporter": "python",
   "pygments_lexer": "ipython3",
   "version": "3.7.4"
  }
 },
 "nbformat": 4,
 "nbformat_minor": 4
}

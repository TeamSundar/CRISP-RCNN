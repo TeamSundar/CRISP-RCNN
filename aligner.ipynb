{
 "cells": [
  {
   "cell_type": "code",
   "execution_count": 1,
   "metadata": {},
   "outputs": [],
   "source": [
    "from Bio import pairwise2"
   ]
  },
  {
   "cell_type": "code",
   "execution_count": 2,
   "metadata": {},
   "outputs": [],
   "source": [
    "import pandas as pd"
   ]
  },
  {
   "cell_type": "code",
   "execution_count": 3,
   "metadata": {},
   "outputs": [],
   "source": [
    "data = pd.read_excel(r'D:\\IIT\\PhD projects\\feature-free NN model\\Datasets\\5 pos and neg_seq_cell_count.xlsx', header=0)"
   ]
  },
  {
   "cell_type": "code",
   "execution_count": 4,
   "metadata": {},
   "outputs": [
    {
     "data": {
      "text/html": [
       "<div>\n",
       "<style scoped>\n",
       "    .dataframe tbody tr th:only-of-type {\n",
       "        vertical-align: middle;\n",
       "    }\n",
       "\n",
       "    .dataframe tbody tr th {\n",
       "        vertical-align: top;\n",
       "    }\n",
       "\n",
       "    .dataframe thead th {\n",
       "        text-align: right;\n",
       "    }\n",
       "</style>\n",
       "<table border=\"1\" class=\"dataframe\">\n",
       "  <thead>\n",
       "    <tr style=\"text-align: right;\">\n",
       "      <th></th>\n",
       "      <th>TARGET</th>\n",
       "      <th>CELL LINE</th>\n",
       "      <th>SEQUENCE</th>\n",
       "      <th>FREQ</th>\n",
       "      <th>POSITIVE / NEGATIVE</th>\n",
       "      <th>Target sequence</th>\n",
       "    </tr>\n",
       "  </thead>\n",
       "  <tbody>\n",
       "    <tr>\n",
       "      <td>0</td>\n",
       "      <td>EMX1</td>\n",
       "      <td>K562</td>\n",
       "      <td>GAGTCCGAGCAGAAGAAGAAGGG</td>\n",
       "      <td>1.000000</td>\n",
       "      <td>1</td>\n",
       "      <td>GAGTCCGAGCAGAAGAAGAANGG</td>\n",
       "    </tr>\n",
       "    <tr>\n",
       "      <td>1</td>\n",
       "      <td>EMX1</td>\n",
       "      <td>K562</td>\n",
       "      <td>AAGGCCAAGCAGAAGAGTAATGG</td>\n",
       "      <td>0.708738</td>\n",
       "      <td>1</td>\n",
       "      <td>GAGTCCGAGCAGAAGAAGAANGG</td>\n",
       "    </tr>\n",
       "    <tr>\n",
       "      <td>2</td>\n",
       "      <td>EMX1</td>\n",
       "      <td>K562</td>\n",
       "      <td>GAGGCCGAGCAGAAGAAAGACGG</td>\n",
       "      <td>0.650485</td>\n",
       "      <td>1</td>\n",
       "      <td>GAGTCCGAGCAGAAGAAGAANGG</td>\n",
       "    </tr>\n",
       "    <tr>\n",
       "      <td>3</td>\n",
       "      <td>EMX1</td>\n",
       "      <td>K562</td>\n",
       "      <td>GAGTCCTAGCAGGAGAAGAAGAG</td>\n",
       "      <td>0.601942</td>\n",
       "      <td>1</td>\n",
       "      <td>GAGTCCGAGCAGAAGAAGAANGG</td>\n",
       "    </tr>\n",
       "    <tr>\n",
       "      <td>4</td>\n",
       "      <td>EMX1</td>\n",
       "      <td>K562</td>\n",
       "      <td>GAAGTAGAGCAGAAGAAGAAGCG</td>\n",
       "      <td>0.582524</td>\n",
       "      <td>1</td>\n",
       "      <td>GAGTCCGAGCAGAAGAAGAANGG</td>\n",
       "    </tr>\n",
       "  </tbody>\n",
       "</table>\n",
       "</div>"
      ],
      "text/plain": [
       "  TARGET CELL LINE                 SEQUENCE      FREQ  POSITIVE / NEGATIVE  \\\n",
       "0   EMX1      K562  GAGTCCGAGCAGAAGAAGAAGGG  1.000000                    1   \n",
       "1   EMX1      K562  AAGGCCAAGCAGAAGAGTAATGG  0.708738                    1   \n",
       "2   EMX1      K562  GAGGCCGAGCAGAAGAAAGACGG  0.650485                    1   \n",
       "3   EMX1      K562  GAGTCCTAGCAGGAGAAGAAGAG  0.601942                    1   \n",
       "4   EMX1      K562  GAAGTAGAGCAGAAGAAGAAGCG  0.582524                    1   \n",
       "\n",
       "           Target sequence  \n",
       "0  GAGTCCGAGCAGAAGAAGAANGG  \n",
       "1  GAGTCCGAGCAGAAGAAGAANGG  \n",
       "2  GAGTCCGAGCAGAAGAAGAANGG  \n",
       "3  GAGTCCGAGCAGAAGAAGAANGG  \n",
       "4  GAGTCCGAGCAGAAGAAGAANGG  "
      ]
     },
     "execution_count": 4,
     "metadata": {},
     "output_type": "execute_result"
    }
   ],
   "source": [
    "data.head()"
   ]
  },
  {
   "cell_type": "code",
   "execution_count": 5,
   "metadata": {},
   "outputs": [
    {
     "data": {
      "text/plain": [
       "(153924, 6)"
      ]
     },
     "execution_count": 5,
     "metadata": {},
     "output_type": "execute_result"
    }
   ],
   "source": [
    "data.shape"
   ]
  },
  {
   "cell_type": "code",
   "execution_count": 6,
   "metadata": {},
   "outputs": [],
   "source": [
    "m,_ = data.shape"
   ]
  },
  {
   "cell_type": "code",
   "execution_count": 7,
   "metadata": {},
   "outputs": [],
   "source": [
    "seq_no = []\n",
    "score = []\n",
    "offt = []\n",
    "t = [] #target sequence list\n",
    "length = [] # length of offtarget"
   ]
  },
  {
   "cell_type": "code",
   "execution_count": 8,
   "metadata": {},
   "outputs": [],
   "source": [
    "#preprocess sequences to remove any preexisting dashes (previous alignment results)\n",
    "import sys\n",
    "err = [] #list to identify error positions\n",
    "\n",
    "for i in range(m):\n",
    "    s1 = data.loc[i]['SEQUENCE']\n",
    "    s2 = data.loc[i]['Target sequence']\n",
    "    offt.append(''.join(s1.split('-')))\n",
    "    t.append(''.join(s2.split('-')))\n",
    "    "
   ]
  },
  {
   "cell_type": "code",
   "execution_count": 9,
   "metadata": {},
   "outputs": [],
   "source": [
    "offt_aligned = []\n",
    "t_aligned = []\n",
    "off_pam = []\n",
    "\n",
    "for i in range(m):   \n",
    "    str1= data.loc[i]['SEQUENCE'][:-3] #exclude PAM from alignment\n",
    "    str2= data.loc[i]['Target sequence'][:-3]\n",
    "    align = pairwise2.align.globalms(str1,str2,2,-1,-18,-6, one_alignment_only=True)[0]\n",
    "    score.append(align[3])\n",
    "    offt_aligned.append(align[0])\n",
    "    t_aligned.append(align[1])\n",
    "    length.append(len(align[0]))\n",
    "    seq_no.append(i+1)\n",
    "    off_pam.append(data.loc[i]['SEQUENCE'][-3:])\n",
    "    "
   ]
  },
  {
   "cell_type": "code",
   "execution_count": 10,
   "metadata": {},
   "outputs": [],
   "source": [
    "data['Aligned off-target'] = offt_aligned\n",
    "data['Aligned off-t PAM'] = off_pam\n",
    "data['Aligned target'] = t_aligned\n",
    "data['length of aligned off-t'] = length\n",
    "data['Alignment score'] = score\n",
    "data.to_excel(r'D:\\IIT\\PhD projects\\feature-free NN model\\Datasets\\5 pos and neg dataset-aligned.xlsx',index=False, header=True)"
   ]
  },
  {
   "cell_type": "code",
   "execution_count": null,
   "metadata": {},
   "outputs": [],
   "source": []
  }
 ],
 "metadata": {
  "kernelspec": {
   "display_name": "Python 3",
   "language": "python",
   "name": "python3"
  },
  "language_info": {
   "codemirror_mode": {
    "name": "ipython",
    "version": 3
   },
   "file_extension": ".py",
   "mimetype": "text/x-python",
   "name": "python",
   "nbconvert_exporter": "python",
   "pygments_lexer": "ipython3",
   "version": "3.7.4"
  }
 },
 "nbformat": 4,
 "nbformat_minor": 4
}

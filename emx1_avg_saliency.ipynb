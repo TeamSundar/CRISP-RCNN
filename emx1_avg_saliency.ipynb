{
 "cells": [
  {
   "cell_type": "code",
   "execution_count": 3,
   "metadata": {},
   "outputs": [],
   "source": [
    "import numpy as np\n",
    "import matplotlib.pyplot as plt\n",
    "%matplotlib inline"
   ]
  },
  {
   "cell_type": "code",
   "execution_count": 4,
   "metadata": {},
   "outputs": [],
   "source": [
    "import random"
   ]
  },
  {
   "cell_type": "code",
   "execution_count": 5,
   "metadata": {},
   "outputs": [],
   "source": [
    "from tqdm import tqdm"
   ]
  },
  {
   "cell_type": "code",
   "execution_count": 6,
   "metadata": {},
   "outputs": [],
   "source": [
    "#load directly from npy files #this step skips the data loading from folders as images\n",
    "off_dataset = np.load('off_dataset.npy')\n",
    "target_dataset = np.load('target_dataset.npy')"
   ]
  },
  {
   "cell_type": "code",
   "execution_count": 7,
   "metadata": {},
   "outputs": [],
   "source": [
    "import tensorflow as tf"
   ]
  },
  {
   "cell_type": "code",
   "execution_count": 19,
   "metadata": {},
   "outputs": [
    {
     "name": "stdout",
     "output_type": "stream",
     "text": [
      "WARNING:tensorflow:From /home/xinfy/anaconda3/lib/python3.7/site-packages/tensorflow/python/compat/v2_compat.py:96: disable_resource_variables (from tensorflow.python.ops.variable_scope) is deprecated and will be removed in a future version.\n",
      "Instructions for updating:\n",
      "non-resource variables are not supported in the long term\n"
     ]
    }
   ],
   "source": [
    "import tensorflow.compat.v1 as tf\n",
    "tf.disable_v2_behavior() "
   ]
  },
  {
   "cell_type": "code",
   "execution_count": 20,
   "metadata": {},
   "outputs": [
    {
     "name": "stdout",
     "output_type": "stream",
     "text": [
      "WARNING:tensorflow:From /home/xinfy/anaconda3/lib/python3.7/site-packages/tensorflow/python/ops/init_ops.py:97: calling VarianceScaling.__init__ (from tensorflow.python.ops.init_ops) with dtype is deprecated and will be removed in a future version.\n",
      "Instructions for updating:\n",
      "Call initializer instance with the dtype argument instead of passing it to the constructor\n",
      "WARNING:tensorflow:From /home/xinfy/anaconda3/lib/python3.7/site-packages/tensorflow/python/ops/init_ops.py:97: calling Orthogonal.__init__ (from tensorflow.python.ops.init_ops) with dtype is deprecated and will be removed in a future version.\n",
      "Instructions for updating:\n",
      "Call initializer instance with the dtype argument instead of passing it to the constructor\n",
      "WARNING:tensorflow:From /home/xinfy/anaconda3/lib/python3.7/site-packages/tensorflow/python/ops/init_ops.py:97: calling Zeros.__init__ (from tensorflow.python.ops.init_ops) with dtype is deprecated and will be removed in a future version.\n",
      "Instructions for updating:\n",
      "Call initializer instance with the dtype argument instead of passing it to the constructor\n"
     ]
    }
   ],
   "source": [
    "#### model\n",
    "model = tf.keras.models.load_model('model_seed10_epoch50.hdf5',compile=False)"
   ]
  },
  {
   "cell_type": "code",
   "execution_count": 21,
   "metadata": {},
   "outputs": [],
   "source": [
    "np.random.seed(0)"
   ]
  },
  {
   "cell_type": "code",
   "execution_count": 24,
   "metadata": {},
   "outputs": [],
   "source": [
    "emx1_pos = [0,1] + list(range(91,473))    #0,1,91-472"
   ]
  },
  {
   "cell_type": "code",
   "execution_count": 35,
   "metadata": {},
   "outputs": [],
   "source": [
    "emx1_neg = list(range(7234,7278))+list(range(7663,8179))+list(range(10342,11297))+list(range(18566,27290))+list(range(55388,69585))\n",
    "# 7234-7277,7663-8178,10342-11296,18566-27289,55388-69584"
   ]
  },
  {
   "cell_type": "code",
   "execution_count": 36,
   "metadata": {},
   "outputs": [
    {
     "data": {
      "text/plain": [
       "(384, 24436)"
      ]
     },
     "execution_count": 36,
     "metadata": {},
     "output_type": "execute_result"
    }
   ],
   "source": [
    "len(emx1_pos),len(emx1_neg)"
   ]
  },
  {
   "cell_type": "code",
   "execution_count": 301,
   "metadata": {},
   "outputs": [],
   "source": [
    "#set_of_random_pos = np.random.choice(7130, 50, replace=False) 50images 1 sec for 1 iteration; 100images 1.5sec for 1iteration\n",
    "emx1_pos_set = np.asarray(random.sample(emx1_pos, 150))\n",
    "emx1_neg_set = np.asarray(random.sample(emx1_neg, 150))"
   ]
  },
  {
   "cell_type": "code",
   "execution_count": 302,
   "metadata": {},
   "outputs": [],
   "source": [
    "set_of_random = np.concatenate((emx1_pos_set,emx1_neg_set))"
   ]
  },
  {
   "cell_type": "code",
   "execution_count": 303,
   "metadata": {},
   "outputs": [],
   "source": [
    "# # select a set of background examples to take an expectation over\n",
    "bg1 = off_dataset[set_of_random]\n",
    "bg2 = target_dataset[set_of_random]"
   ]
  },
  {
   "cell_type": "code",
   "execution_count": 304,
   "metadata": {},
   "outputs": [],
   "source": [
    "e = shap.DeepExplainer(([model.layers[2].input, model.layers[3].input], model.layers[-1].output), [bg1, bg2])"
   ]
  },
  {
   "cell_type": "code",
   "execution_count": 91,
   "metadata": {},
   "outputs": [],
   "source": [
    "##### sample \n",
    "#sample_id = 1"
   ]
  },
  {
   "cell_type": "code",
   "execution_count": 92,
   "metadata": {},
   "outputs": [],
   "source": []
  },
  {
   "cell_type": "code",
   "execution_count": 93,
   "metadata": {},
   "outputs": [],
   "source": [
    "# fig  = plt.figure(figsize=(10,4),facecolor=\"#ffffff\",linewidth=6, edgecolor=\"#000000\")\n",
    "# ax = fig.gca()\n",
    "# plt.subplots_adjust(hspace = .1, wspace = .1)\n",
    "# plt.subplot(2,1,1)\n",
    "# plt.axis('off')\n",
    "# plt.imshow(x1.squeeze(), cmap='gray')\n",
    "# plt.title('off_target', color='k')\n",
    "# plt.subplot(2,1,2)\n",
    "# plt.axis('off')\n",
    "# plt.imshow(x2.squeeze(), cmap='gray')\n",
    "# plt.title('target', color='k')"
   ]
  },
  {
   "cell_type": "code",
   "execution_count": 290,
   "metadata": {},
   "outputs": [],
   "source": [
    "# x1.shape, x2.shape"
   ]
  },
  {
   "cell_type": "code",
   "execution_count": 95,
   "metadata": {},
   "outputs": [],
   "source": [
    "# shap_values = e.shap_values([x1, x2])"
   ]
  },
  {
   "cell_type": "code",
   "execution_count": 96,
   "metadata": {},
   "outputs": [],
   "source": [
    "# off_shap = shap_values[0][0]\n",
    "# tar_shap = shap_values[0][1]"
   ]
  },
  {
   "cell_type": "code",
   "execution_count": 124,
   "metadata": {},
   "outputs": [],
   "source": [
    "# fig  = plt.figure(figsize=(15,5),facecolor=\"#ffffff\",linewidth=6, edgecolor=\"#000000\")\n",
    "# ax = fig.gca()\n",
    "# plt.subplots_adjust(hspace = .1, wspace = .1)\n",
    "# plt.subplot(2,3,1)\n",
    "# plt.axis('off')\n",
    "# plt.imshow(x1.squeeze(), cmap='gray')\n",
    "# plt.title('off_target', color='k')\n",
    "# plt.subplot(2,3,4)\n",
    "# plt.axis('off')\n",
    "# plt.imshow(x2.squeeze(), cmap='gray')\n",
    "# plt.title('target', color='k')\n",
    "# plt.subplot(2,3,2)\n",
    "# plt.axis('off')\n",
    "# plt.imshow(off_shap.squeeze(), cmap='jet', interpolation='bilinear')\n",
    "# plt.title('Off Target SHAP', color='k')\n",
    "# plt.subplot(2,3,5)\n",
    "# plt.axis('off')\n",
    "# plt.imshow(tar_shap.squeeze(), cmap='jet', interpolation='bilinear')\n",
    "# plt.title('Target SHAP', color='k')\n",
    "# plt.subplot(2,3,3)\n",
    "# plt.axis('off')\n",
    "# plt.imshow(x1.squeeze(), cmap='gray')\n",
    "# plt.imshow(off_shap.squeeze(), cmap='jet', interpolation='bilinear', alpha=0.7)\n",
    "# plt.title('Off Target SHAP Superimposed', color='k')\n",
    "# plt.subplot(2,3,6)\n",
    "# plt.axis('off')\n",
    "# plt.imshow(x2.squeeze(), cmap='gray')\n",
    "# plt.imshow(tar_shap.squeeze(), cmap='jet', interpolation='bilinear', alpha=0.7)\n",
    "# plt.title('Target SHAP Superimposed', color='k')\n",
    "# plt.tight_layout()\n",
    "# fig.suptitle('DEEP Explainer SHAP : seq_no_' + str(sample_id) , fontsize=20, color='k')\n",
    "# plt.show()\n",
    "# ##plt.savefig('DEEPExplainer_SHAP'+str(sample_id)+'.png', dpi=800)"
   ]
  },
  {
   "cell_type": "code",
   "execution_count": 276,
   "metadata": {},
   "outputs": [],
   "source": [
    "######## images overlayed together\n",
    "#temp_arr = emx1_pos#### [0,1,91] ### smol sample test\n",
    "temp_arr = np.asarray(random.sample(emx1_neg, 384))### setting 384 as the positive samples is 384 "
   ]
  },
  {
   "cell_type": "code",
   "execution_count": 278,
   "metadata": {},
   "outputs": [],
   "source": [
    "#temp_arr"
   ]
  },
  {
   "cell_type": "code",
   "execution_count": 305,
   "metadata": {},
   "outputs": [
    {
     "name": "stderr",
     "output_type": "stream",
     "text": [
      "100%|██████████| 384/384 [13:51<00:00,  2.17s/it]\n"
     ]
    }
   ],
   "source": [
    "mat_off_shap = np.zeros((len(temp_arr),4,28,1))\n",
    "mat_tar_shap = np.zeros((len(temp_arr),4,28,1))\n",
    "\n",
    "for index,item in enumerate(tqdm(temp_arr)):\n",
    "    img_x1 = off_dataset[item:item+1]\n",
    "    img_x2 = target_dataset[item:item+1]\n",
    "    shap_values = e.shap_values([img_x1, img_x2])\n",
    "    #off_shap = shap_values[0][0]\n",
    "    #tar_shap = shap_values[0][1]\n",
    "    mat_off_shap[index,:,:,:] = shap_values[0][0]\n",
    "    mat_tar_shap[index,:,:,:] = shap_values[0][1]"
   ]
  },
  {
   "cell_type": "code",
   "execution_count": 306,
   "metadata": {},
   "outputs": [
    {
     "data": {
      "text/plain": [
       "((384, 4, 28, 1), (384, 4, 28, 1))"
      ]
     },
     "execution_count": 306,
     "metadata": {},
     "output_type": "execute_result"
    }
   ],
   "source": [
    "mat_off_shap.shape, mat_tar_shap.shape"
   ]
  },
  {
   "cell_type": "code",
   "execution_count": 293,
   "metadata": {},
   "outputs": [],
   "source": [
    "#plt.imshow(mat_off_shap[0].squeeze(), cmap='jet', interpolation='bilinear') \n",
    "## exampple to test if correct sequence went inside the matrix"
   ]
  },
  {
   "cell_type": "code",
   "execution_count": 307,
   "metadata": {},
   "outputs": [],
   "source": [
    "overlay_off_shap = np.mean(mat_off_shap,axis=0)\n",
    "overlay_tar_shap = np.mean(mat_tar_shap,axis=0)"
   ]
  },
  {
   "cell_type": "code",
   "execution_count": 295,
   "metadata": {},
   "outputs": [],
   "source": [
    "# ticks=np.arange(0,28)"
   ]
  },
  {
   "cell_type": "code",
   "execution_count": 296,
   "metadata": {},
   "outputs": [],
   "source": [
    "# plt.gca().set_xticks(ticks)\n",
    "# plt.imshow(overlay_off_shap.squeeze(), cmap='seismic', interpolation='nearest')\n"
   ]
  },
  {
   "cell_type": "code",
   "execution_count": 297,
   "metadata": {},
   "outputs": [],
   "source": [
    "\n",
    "# plt.imshow(overlay_tar_shap.squeeze(), cmap='seismic', interpolation='nearest')"
   ]
  },
  {
   "cell_type": "code",
   "execution_count": 248,
   "metadata": {},
   "outputs": [],
   "source": [
    "# fig  = plt.figure(figsize=(10,4),facecolor=\"#ffffff\",linewidth=6, edgecolor=\"#000000\")\n",
    "# ax = fig.gca()\n",
    "# plt.subplots_adjust(hspace = .5, wspace = .1)\n",
    "# # plt.subplot(2,1,1)\n",
    "# plt.axis('off')\n",
    "# plt.imshow(overlay_off_shap.squeeze(), cmap='seismic', interpolation='nearest')\n",
    "# plt.title('off_target', color='k')\n",
    "# plt.subplot(2,1,2)\n",
    "# plt.axis('off')\n",
    "# plt.gca().set_xticks(ticks)\n",
    "# plt.imshow(overlay_tar_shap.squeeze(), cmap='seismic', interpolation='nearest')\n",
    "# plt.title('target', color='k')\n",
    "# plt.tight_layout()\n",
    "# fig.suptitle('EMX1' , fontsize=10, color='k')\n",
    "# plt.show()"
   ]
  },
  {
   "cell_type": "code",
   "execution_count": 308,
   "metadata": {},
   "outputs": [],
   "source": [
    "a = overlay_off_shap\n",
    "#c = (255*(a - np.min(a))/np.ptp(a)).astype(int)\n",
    "#c = 2.*(a - np.min(a))/np.ptp(a)-1"
   ]
  },
  {
   "cell_type": "code",
   "execution_count": 309,
   "metadata": {},
   "outputs": [],
   "source": [
    "b = overlay_tar_shap\n",
    "#d = (255*(b - np.min(b))/np.ptp(b)).astype(int)\n",
    "#d = 2.*(b - np.min(b))/np.ptp(b)-1"
   ]
  },
  {
   "cell_type": "code",
   "execution_count": 233,
   "metadata": {},
   "outputs": [],
   "source": [
    "# ##### colormap\n",
    "# from matplotlib.colors import from_levels_and_colors\n",
    "# num_levels = 40\n",
    "\n",
    "# #####\n",
    "# vmin1, vmax1 = c.min(), c.max()\n",
    "# midpoint1 = -0.755#(vmax+vmin)/2\n",
    "# levels1 = np.linspace(vmin1, vmax1, num_levels)\n",
    "# midp1 = np.mean(np.c_[levels1[:-1], levels1[1:]], axis=1)\n",
    "# vals1 = np.interp(midp1, [vmin1, midpoint1, vmax1], [0, 0.5, 1])\n",
    "# colors1 = plt.cm.seismic(vals1)\n",
    "# cmap1, norm1 = from_levels_and_colors(levels1, colors1)\n",
    "\n",
    "\n",
    "# #######\n",
    "# vmin2, vmax2 = d.min(), d.max()\n",
    "# midpoint2 = -0.416#(vmax+vmin)/2\n",
    "# levels2 = np.linspace(vmin2, vmax2, num_levels)\n",
    "# midp2 = np.mean(np.c_[levels2[:-1], levels2[1:]], axis=1)\n",
    "# vals2 = np.interp(midp2, [vmin2, midpoint2, vmax2], [0, 0.5, 1])\n",
    "# colors2 = plt.cm.seismic(vals2)\n",
    "# cmap2, norm2 = from_levels_and_colors(levels2, colors2)"
   ]
  },
  {
   "cell_type": "code",
   "execution_count": null,
   "metadata": {},
   "outputs": [],
   "source": [
    "\n"
   ]
  },
  {
   "cell_type": "code",
   "execution_count": 311,
   "metadata": {},
   "outputs": [
    {
     "data": {
      "image/png": "[encoded data removed]",
      "text/plain": [
       "<Figure size 720x288 with 2 Axes>"
      ]
     },
     "metadata": {},
     "output_type": "display_data"
    }
   ],
   "source": [
    "fig  = plt.figure(figsize=(10,4),facecolor=\"#ffffff\",linewidth=6, edgecolor=\"#000000\")\n",
    "plt.subplots_adjust(hspace = .5, wspace = .5)\n",
    "plt.subplot(2,1,1)\n",
    "plt.axis('off')\n",
    "#ax1 = plt.imshow(c.squeeze(), cmap=cmap1, interpolation='nearest')\n",
    "plt.imshow(a.squeeze(), cmap='seismic', interpolation='nearest')\n",
    "plt.title('off_target', color='k')\n",
    "plt.subplot(2,1,2)\n",
    "plt.axis('off')\n",
    "#ax2 = plt.imshow(d.squeeze(), cmap=cmap2, interpolation='nearest')\n",
    "plt.imshow(b.squeeze(), cmap='seismic', interpolation='nearest')\n",
    "plt.title('target', color='k')\n",
    "plt.tight_layout()\n",
    "fig.suptitle('EMX1-class-label-0    150-150-reference-each-class' , fontsize=20, color='k',y=1.05)\n",
    "#fig.colorbar(ax1)\n",
    "plt.show()"
   ]
  },
  {
   "cell_type": "code",
   "execution_count": 2,
   "metadata": {},
   "outputs": [],
   "source": [
    "####################################################\n",
    "#################SALIENCY / SMOOTHED SALIENCY STARTS\n",
    "###################################################"
   ]
  },
  {
   "cell_type": "code",
   "execution_count": 1,
   "metadata": {},
   "outputs": [],
   "source": [
    "import numpy as np\n",
    "import matplotlib.pyplot as plt\n",
    "%matplotlib inline\n",
    "from tqdm import tqdm"
   ]
  },
  {
   "cell_type": "code",
   "execution_count": 2,
   "metadata": {},
   "outputs": [],
   "source": [
    "import tensorflow as tf"
   ]
  },
  {
   "cell_type": "code",
   "execution_count": 3,
   "metadata": {},
   "outputs": [],
   "source": [
    "#load directly from npy files\n",
    "off_dataset = np.load('off_dataset.npy')\n",
    "target_dataset = np.load('target_dataset.npy')"
   ]
  },
  {
   "cell_type": "code",
   "execution_count": 4,
   "metadata": {},
   "outputs": [
    {
     "data": {
      "text/plain": [
       "((153924, 4, 28, 1), (153924, 4, 28, 1))"
      ]
     },
     "execution_count": 4,
     "metadata": {},
     "output_type": "execute_result"
    }
   ],
   "source": [
    "off_dataset.shape, target_dataset.shape"
   ]
  },
  {
   "cell_type": "code",
   "execution_count": 5,
   "metadata": {},
   "outputs": [],
   "source": [
    "emx1_pos = [0,1] + list(range(91,473))    #0,1,91-472\n",
    "emx1_neg = list(range(7234,7278))+list(range(7663,8179))+list(range(10342,11297))+list(range(18566,27290))+list(range(55388,69585))\n",
    "# 7234-7277,7663-8178,10342-11296,18566-27289,55388-69584"
   ]
  },
  {
   "cell_type": "code",
   "execution_count": 6,
   "metadata": {},
   "outputs": [
    {
     "data": {
      "text/plain": [
       "(384, 24436)"
      ]
     },
     "execution_count": 6,
     "metadata": {},
     "output_type": "execute_result"
    }
   ],
   "source": [
    "len(emx1_pos),len(emx1_neg)"
   ]
  },
  {
   "cell_type": "code",
   "execution_count": 7,
   "metadata": {},
   "outputs": [],
   "source": [
    "temp_arr = emx1_pos ####emx1_neg for label 0"
   ]
  },
  {
   "cell_type": "code",
   "execution_count": 8,
   "metadata": {},
   "outputs": [],
   "source": [
    "############# model edits for saliency\n",
    "from tensorflow.keras import backend as K\n",
    "from tf_keras_vis.saliency import Saliency\n",
    "from tf_keras_vis.utils import normalize"
   ]
  },
  {
   "cell_type": "code",
   "execution_count": 9,
   "metadata": {},
   "outputs": [],
   "source": [
    "def loss(output):\n",
    "    return (output[0][0])"
   ]
  },
  {
   "cell_type": "code",
   "execution_count": 10,
   "metadata": {},
   "outputs": [],
   "source": [
    "################## maynot be used\n",
    "def model_modifier(m):\n",
    "    m.layers[-1].activation = tf.keras.activations.linear\n",
    "    return m"
   ]
  },
  {
   "cell_type": "code",
   "execution_count": 11,
   "metadata": {},
   "outputs": [],
   "source": [
    "#### model\n",
    "model = tf.keras.models.load_model('model_seed10_epoch50.hdf5',compile=False)"
   ]
  },
  {
   "cell_type": "code",
   "execution_count": null,
   "metadata": {},
   "outputs": [],
   "source": [
    "####################### SALIENCY ########"
   ]
  },
  {
   "cell_type": "code",
   "execution_count": 13,
   "metadata": {},
   "outputs": [
    {
     "name": "stderr",
     "output_type": "stream",
     "text": [
      "  0%|          | 0/384 [00:00<?, ?it/s]/home/xinfy/anaconda3/lib/python3.7/site-packages/ipykernel_launcher.py:15: DeprecationWarning: Call to deprecated function (or staticmethod) normalize. (Inappropriate naming) -- Deprecated since version 0.6.0.\n",
      "  from ipykernel import kernelapp as app\n",
      "/home/xinfy/anaconda3/lib/python3.7/site-packages/ipykernel_launcher.py:16: DeprecationWarning: Call to deprecated function (or staticmethod) normalize. (Inappropriate naming) -- Deprecated since version 0.6.0.\n",
      "  app.launch_new_instance()\n",
      "100%|██████████| 384/384 [02:01<00:00,  3.16it/s]\n"
     ]
    }
   ],
   "source": [
    "mat_off_shap = np.zeros((len(temp_arr),4,28))\n",
    "mat_tar_shap = np.zeros((len(temp_arr),4,28))\n",
    "\n",
    "#saliency = Saliency(model,clone=True)\n",
    "saliency = Saliency(model,model_modifier=model_modifier,clone=True)\n",
    "for index,item in enumerate(tqdm(temp_arr)):\n",
    "    img_x1 = off_dataset[item:item+1]\n",
    "    img_x2 = target_dataset[item:item+1]\n",
    "    #print(img_x1.shape,img_x2.shape)\n",
    "    saliency_map = saliency(loss, [img_x1,img_x2])\n",
    "    #saliency_map_1,saliency_map_2 = normalize(saliency_map[0]),normalize(saliency_map[1])\n",
    "    \n",
    "    #print(saliency_map_1.shape,saliency_map_2.shape)   \n",
    "        \n",
    "    mat_off_shap[index,:,:] = normalize(saliency_map[0])\n",
    "    mat_tar_shap[index,:,:] = normalize(saliency_map[1])\n",
    "    ##break"
   ]
  },
  {
   "cell_type": "code",
   "execution_count": 14,
   "metadata": {},
   "outputs": [
    {
     "data": {
      "text/plain": [
       "((384, 4, 28), (384, 4, 28))"
      ]
     },
     "execution_count": 14,
     "metadata": {},
     "output_type": "execute_result"
    }
   ],
   "source": [
    "mat_off_shap.shape, mat_tar_shap.shape"
   ]
  },
  {
   "cell_type": "code",
   "execution_count": 15,
   "metadata": {},
   "outputs": [],
   "source": [
    "overlay_off_shap = np.mean(mat_off_shap,axis=0)\n",
    "overlay_tar_shap = np.mean(mat_tar_shap,axis=0)"
   ]
  },
  {
   "cell_type": "code",
   "execution_count": 16,
   "metadata": {},
   "outputs": [
    {
     "data": {
      "text/plain": [
       "((4, 28), (4, 28))"
      ]
     },
     "execution_count": 16,
     "metadata": {},
     "output_type": "execute_result"
    }
   ],
   "source": [
    "overlay_off_shap.shape,overlay_tar_shap.shape"
   ]
  },
  {
   "cell_type": "code",
   "execution_count": 17,
   "metadata": {},
   "outputs": [],
   "source": [
    "a = overlay_off_shap\n",
    "b = overlay_tar_shap"
   ]
  },
  {
   "cell_type": "code",
   "execution_count": 19,
   "metadata": {},
   "outputs": [
    {
     "data": {
      "image/png": "[encoded data removed]",
      "text/plain": [
       "<Figure size 720x288 with 2 Axes>"
      ]
     },
     "metadata": {},
     "output_type": "display_data"
    }
   ],
   "source": [
    "fig  = plt.figure(figsize=(10,4),facecolor=\"#ffffff\",linewidth=6, edgecolor=\"#000000\")\n",
    "ax = fig.gca()\n",
    "plt.subplots_adjust(hspace = .5, wspace = .5)\n",
    "plt.subplot(2,1,1)\n",
    "plt.axis('off')\n",
    "plt.imshow(a, cmap='seismic', interpolation='nearest')\n",
    "plt.title('off_target saliency', color='k')\n",
    "plt.subplot(2,1,2)\n",
    "plt.axis('off')\n",
    "plt.imshow(b, cmap='seismic', interpolation='nearest')\n",
    "plt.title('target saliency', color='k')\n",
    "plt.tight_layout()\n",
    "fig.suptitle('EMX1-class-label-1   Saliency' , fontsize=20, color='k',y=1.05)\n",
    "#plt.show()\n",
    "plt.savefig('EMX1-class_label-1_Saliency'+'.png', dpi=1200)"
   ]
  },
  {
   "cell_type": "code",
   "execution_count": 21,
   "metadata": {},
   "outputs": [
    {
     "name": "stderr",
     "output_type": "stream",
     "text": [
      "  0%|          | 0/384 [00:00<?, ?it/s]/home/xinfy/anaconda3/lib/python3.7/site-packages/ipykernel_launcher.py:18: DeprecationWarning: Call to deprecated function (or staticmethod) normalize. (Inappropriate naming) -- Deprecated since version 0.6.0.\n",
      "/home/xinfy/anaconda3/lib/python3.7/site-packages/ipykernel_launcher.py:19: DeprecationWarning: Call to deprecated function (or staticmethod) normalize. (Inappropriate naming) -- Deprecated since version 0.6.0.\n",
      "100%|██████████| 384/384 [54:42<00:00,  8.55s/it] \n"
     ]
    }
   ],
   "source": [
    "############################################\n",
    "######################## SMOOOTHED SALIENCY#\n",
    "############################################\n",
    "\n",
    "###### TAKES ABOUT AN HOUR TO RUN\n",
    "\n",
    "\n",
    "mat_off_shap = np.zeros((len(temp_arr),4,28))\n",
    "mat_tar_shap = np.zeros((len(temp_arr),4,28))\n",
    "\n",
    "#saliency = Saliency(model,clone=True)\n",
    "smooth_saliency = Saliency(model,model_modifier=model_modifier,clone=True)\n",
    "for index,item in enumerate(tqdm(temp_arr)):\n",
    "    img_x1 = off_dataset[item:item+1]\n",
    "    img_x2 = target_dataset[item:item+1]\n",
    "    #print(img_x1.shape,img_x2.shape)\n",
    "    saliency_map = smooth_saliency(loss, [img_x1,img_x2], smooth_samples=30,smooth_noise=0.10)\n",
    "    #saliency_map_1,saliency_map_2 = normalize(saliency_map[0]),normalize(saliency_map[1])\n",
    "    \n",
    "    #print(saliency_map_1.shape,saliency_map_2.shape)   \n",
    "        \n",
    "    mat_off_shap[index,:,:] = normalize(saliency_map[0])\n",
    "    mat_tar_shap[index,:,:] = normalize(saliency_map[1])\n",
    "    ##break"
   ]
  },
  {
   "cell_type": "code",
   "execution_count": 22,
   "metadata": {},
   "outputs": [
    {
     "data": {
      "text/plain": [
       "((384, 4, 28), (384, 4, 28))"
      ]
     },
     "execution_count": 22,
     "metadata": {},
     "output_type": "execute_result"
    }
   ],
   "source": [
    "mat_off_shap.shape, mat_tar_shap.shape"
   ]
  },
  {
   "cell_type": "code",
   "execution_count": 23,
   "metadata": {},
   "outputs": [],
   "source": [
    "overlay_off_shap = np.mean(mat_off_shap,axis=0)\n",
    "overlay_tar_shap = np.mean(mat_tar_shap,axis=0)"
   ]
  },
  {
   "cell_type": "code",
   "execution_count": 24,
   "metadata": {},
   "outputs": [
    {
     "data": {
      "text/plain": [
       "((4, 28), (4, 28))"
      ]
     },
     "execution_count": 24,
     "metadata": {},
     "output_type": "execute_result"
    }
   ],
   "source": [
    "overlay_off_shap.shape,overlay_tar_shap.shape"
   ]
  },
  {
   "cell_type": "code",
   "execution_count": 25,
   "metadata": {},
   "outputs": [],
   "source": [
    "a = overlay_off_shap\n",
    "b = overlay_tar_shap"
   ]
  },
  {
   "cell_type": "code",
   "execution_count": 27,
   "metadata": {},
   "outputs": [
    {
     "data": {
      "image/png": "[encoded data removed]",
      "text/plain": [
       "<Figure size 720x288 with 2 Axes>"
      ]
     },
     "metadata": {},
     "output_type": "display_data"
    }
   ],
   "source": [
    "fig  = plt.figure(figsize=(10,4),facecolor=\"#ffffff\",linewidth=6, edgecolor=\"#000000\")\n",
    "ax = fig.gca()\n",
    "plt.subplots_adjust(hspace = .5, wspace = .5)\n",
    "plt.subplot(2,1,1)\n",
    "plt.axis('off')\n",
    "plt.imshow(a, cmap='seismic', interpolation='nearest')\n",
    "plt.title('off_target saliency', color='k')\n",
    "plt.subplot(2,1,2)\n",
    "plt.axis('off')\n",
    "plt.imshow(b, cmap='seismic', interpolation='nearest')\n",
    "plt.title('target saliency', color='k')\n",
    "plt.tight_layout()\n",
    "fig.suptitle('EMX1-class-label-1_Smooothed_30samples_point1_noise' , fontsize=20, color='k',y=1.05)\n",
    "#plt.show()\n",
    "plt.savefig('EMX1-class_label-1__Smooothed_30samples_point1_noise'+'.png', dpi=1200)"
   ]
  },
  {
   "cell_type": "code",
   "execution_count": null,
   "metadata": {},
   "outputs": [],
   "source": []
  }
 ],
 "metadata": {
  "kernelspec": {
   "display_name": "Python 3",
   "language": "python",
   "name": "python3"
  },
  "language_info": {
   "codemirror_mode": {
    "name": "ipython",
    "version": 3
   },
   "file_extension": ".py",
   "mimetype": "text/x-python",
   "name": "python",
   "nbconvert_exporter": "python",
   "pygments_lexer": "ipython3",
   "version": "3.7.4"
  }
 },
 "nbformat": 4,
 "nbformat_minor": 4
}

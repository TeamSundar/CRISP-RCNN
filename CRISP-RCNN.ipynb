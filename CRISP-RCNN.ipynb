{
 "cells": [
  {
   "cell_type": "code",
   "execution_count": 5,
   "metadata": {},
   "outputs": [],
   "source": [
    "##MCC-f1-installation\n",
    "#!pip install py-mcc-f1"
   ]
  },
  {
   "cell_type": "code",
   "execution_count": null,
   "metadata": {
    "id": "evUCEDS8qSzO"
   },
   "outputs": [],
   "source": [
    "#change keras if original not working\n",
    "# TF should be TF 2.1\n",
    "# Keras==2.3.1\n",
    "# tensorflow-addons==0.9.1"
   ]
  },
  {
   "cell_type": "code",
   "execution_count": 6,
   "metadata": {
    "id": "nGoPPPB9qS6J",
    "outputId": "f5cd31a1-7a09-497a-c767-ed8bcaccc168"
   },
   "outputs": [],
   "source": [
    "import sys\n",
    "import numpy as np\n",
    "import pandas as pd\n",
    "import os\n",
    "from tqdm import tqdm\n",
    "from natsort import natsorted\n",
    "import matplotlib.pyplot as plt\n",
    "%matplotlib inline\n",
    "from tensorflow.keras.models import Sequential, Model\n",
    "from tensorflow.keras.layers import Layer,Input, Dense, Dropout, Activation, Concatenate, Flatten, MaxPooling2D, Convolution2D, Convolution1D, MaxPooling1D, GlobalMaxPooling1D, BatchNormalization, LSTM, GRU, Bidirectional, Lambda\n",
    "from tensorflow.keras.regularizers import l2,l1\n",
    "from tensorflow.keras.optimizers import SGD,Adam,RMSprop\n",
    "from tensorflow.compat.v1 import InteractiveSession\n",
    "import tensorflow.keras.backend as K\n",
    "from tensorflow.keras.preprocessing.image import array_to_img, img_to_array, load_img\n",
    "from tensorflow.keras.callbacks import EarlyStopping, ModelCheckpoint,ReduceLROnPlateau\n",
    "from tensorflow.keras.models import load_model\n",
    "import tensorflow.keras.metrics\n",
    "import tensorflow_addons as tfa\n",
    "from sklearn.preprocessing import LabelEncoder\n",
    "import tensorflow as tf\n",
    "from sklearn.model_selection import train_test_split\n",
    "from sklearn.preprocessing import MinMaxScaler\n",
    "from tensorflow.keras.utils import to_categorical, plot_model"
   ]
  },
  {
   "cell_type": "code",
   "execution_count": 7,
   "metadata": {
    "id": "m5odlI1HrcWE"
   },
   "outputs": [],
   "source": [
    "le = LabelEncoder()"
   ]
  },
  {
   "cell_type": "code",
   "execution_count": 8,
   "metadata": {
    "colab": {
     "base_uri": "https://localhost:8080/"
    },
    "id": "hc2Uokyyrflj",
    "outputId": "b7509972-7278-4c36-ae5e-6a06a87290b4"
   },
   "outputs": [
    {
     "name": "stdout",
     "output_type": "stream",
     "text": [
      "2.3.0\n"
     ]
    }
   ],
   "source": [
    "print(tf.__version__) #should be TF 2.1"
   ]
  },
  {
   "cell_type": "code",
   "execution_count": 9,
   "metadata": {
    "id": "k57gCOUCsiMV"
   },
   "outputs": [],
   "source": [
    "samples = 153924\n",
    "# samples #should be 153924"
   ]
  },
  {
   "cell_type": "code",
   "execution_count": 10,
   "metadata": {
    "id": "V4bjy-a1as-E"
   },
   "outputs": [],
   "source": [
    "#load directly from npy files #this step skips the data loading from folders as images\n",
    "off_dataset = np.load('off_dataset.npy')\n",
    "target_dataset = np.load('target_dataset.npy')"
   ]
  },
  {
   "cell_type": "code",
   "execution_count": 11,
   "metadata": {
    "colab": {
     "base_uri": "https://localhost:8080/"
    },
    "id": "1xUN2Iqnsoao",
    "outputId": "ac0343ec-5160-4e6c-eeec-99a0e02d37a8"
   },
   "outputs": [
    {
     "data": {
      "text/plain": [
       "((153924, 4, 28, 1), (153924, 4, 28, 1))"
      ]
     },
     "execution_count": 11,
     "metadata": {},
     "output_type": "execute_result"
    }
   ],
   "source": [
    "off_dataset.shape, target_dataset.shape"
   ]
  },
  {
   "cell_type": "code",
   "execution_count": 12,
   "metadata": {
    "id": "iRmOStIxuV6l"
   },
   "outputs": [],
   "source": [
    "#get both types of output\n",
    "output = pd.read_csv('output2.csv')\n",
    "y = output['y']\n",
    "freq = output['freq']"
   ]
  },
  {
   "cell_type": "code",
   "execution_count": 13,
   "metadata": {
    "id": "8eYFGj3Muj5r"
   },
   "outputs": [],
   "source": [
    "Y = le.fit_transform(y).reshape(-1,1)"
   ]
  },
  {
   "cell_type": "code",
   "execution_count": 14,
   "metadata": {
    "colab": {
     "base_uri": "https://localhost:8080/"
    },
    "id": "d3l81yZMunIV",
    "outputId": "fba633d7-da8a-482c-e4b8-754ed7eabfe0"
   },
   "outputs": [
    {
     "data": {
      "text/plain": [
       "(array([[1],\n",
       "        [1],\n",
       "        [1],\n",
       "        ...,\n",
       "        [0],\n",
       "        [0],\n",
       "        [0]]), (153924, 1))"
      ]
     },
     "execution_count": 14,
     "metadata": {},
     "output_type": "execute_result"
    }
   ],
   "source": [
    "Y, Y.shape"
   ]
  },
  {
   "cell_type": "code",
   "execution_count": 10,
   "metadata": {},
   "outputs": [],
   "source": [
    "#len(Y[Y==0]) #7190 is positive dataset, 146734 is negative dataset"
   ]
  },
  {
   "cell_type": "code",
   "execution_count": 15,
   "metadata": {
    "colab": {
     "base_uri": "https://localhost:8080/"
    },
    "id": "9P-fXUvcupG8",
    "outputId": "4864931b-16a6-4fca-b9e9-efe6652f3b25"
   },
   "outputs": [
    {
     "data": {
      "text/plain": [
       "(array([[39.],\n",
       "        [39.],\n",
       "        [38.],\n",
       "        ...,\n",
       "        [ 0.],\n",
       "        [ 0.],\n",
       "        [ 0.]]), (153924, 1))"
      ]
     },
     "execution_count": 15,
     "metadata": {},
     "output_type": "execute_result"
    }
   ],
   "source": [
    "freq = freq.values.reshape(-1,1)\n",
    "freq, freq.shape"
   ]
  },
  {
   "cell_type": "code",
   "execution_count": 16,
   "metadata": {
    "colab": {
     "base_uri": "https://localhost:8080/"
    },
    "id": "6HHDQGaQurfH",
    "outputId": "924dde4b-a5c9-4de2-fa96-9dd5fa18be25"
   },
   "outputs": [
    {
     "data": {
      "text/plain": [
       "((153924, 4, 28, 1), (153924, 4, 28, 1), (153924, 1), (153924, 1))"
      ]
     },
     "execution_count": 16,
     "metadata": {},
     "output_type": "execute_result"
    }
   ],
   "source": [
    "#data summary\n",
    "off_dataset.shape, target_dataset.shape, Y.shape, freq.shape\n",
    "#should be ((153924, 4, 28, 1), (153924, 4, 28, 1), (153924, 1), (153924, 1))"
   ]
  },
  {
   "cell_type": "code",
   "execution_count": 18,
   "metadata": {
    "id": "d4WlRSMDuujH"
   },
   "outputs": [],
   "source": [
    "#now model\n",
    "def clear_sess():\n",
    "  try:\n",
    "    del model, history\n",
    "  except:\n",
    "    pass\n",
    "  from tensorflow.keras import backend as K\n",
    "  K.clear_session()\n",
    "  return None"
   ]
  },
  {
   "cell_type": "code",
   "execution_count": 22,
   "metadata": {
    "id": "ZkplbAmPuyIo"
   },
   "outputs": [],
   "source": [
    "clear_sess()\n"
   ]
  },
  {
   "cell_type": "code",
   "execution_count": null,
   "metadata": {
    "id": "y6C8ulHEe6in"
   },
   "outputs": [],
   "source": [
    "# # CNN-LSTM tester code works good; ############################################## DO NOT EDIT\n",
    "\n",
    "# #input_1\n",
    "\n",
    "# input_1 = Input(shape = (4,28,1), name='i_1')\n",
    "# conv1_1 = Convolution2D(128, 3, activation = 'relu',padding='valid')(input_1)\n",
    "# bn1_1 = BatchNormalization()(conv1_1)\n",
    "# conv1_2 = Convolution2D(128, 2, activation = 'relu',padding='valid')(bn1_1)\n",
    "# bn1_2 = BatchNormalization()(conv1_2)\n",
    "# #pool1_1 = MaxPooling2D(pool_size=2)(conv1_2)\n",
    "# #testing reshape layer\n",
    "# reshape_1 = Lambda(lambda x: K.squeeze(x, 1))(bn1_2)\n",
    "# bilstm_1 = Bidirectional(LSTM(128, return_sequences=True))(reshape_1)\n",
    "# #bilstm_11 = Bidirectional(LSTM(256, return_sequences=True))(bilstm_1)\n",
    "# flat_1 = Flatten()(bilstm_1)\n",
    " \n",
    "# # kernel_regularizer=l2(0.01), bias_regularizer=l2(0.01)\n",
    "# #\n",
    "# #\n",
    "# #input_2\n",
    "\n",
    "# input_2 = Input(shape = (4,28,1), name='i_2')\n",
    "# conv2_1 = Convolution2D(128, 3, activation = 'relu',padding='valid')(input_2)\n",
    "# bn2_1 = BatchNormalization()(conv2_1)\n",
    "# conv2_2 = Convolution2D(128, 2, activation = 'relu',padding='valid')(bn2_1)\n",
    "# bn2_2 = BatchNormalization()(conv2_2)\n",
    "# #pool2_1 = MaxPooling2D(pool_size=2)(conv2_2)\n",
    "# # testing reshape layer\n",
    "# reshape_2 = Lambda(lambda x: K.squeeze(x, 1))(bn2_2)\n",
    "# bilstm_2 = Bidirectional(LSTM(128, return_sequences=True))(reshape_2)\n",
    "# #bilstm_21 = Bidirectional(LSTM(256, return_sequences=True))(bilstm_2)\n",
    "# flat_2 = Flatten()(bilstm_2)\n",
    " \n",
    "# # concatenate\n",
    "# concat   = Concatenate()([flat_1, flat_2])\n",
    "# dense1   = Dense(256, activation = 'relu', kernel_regularizer=l2(0.0005))(concat)\n",
    "# #dropout1 = Dropout(0.5)(dense1)\n",
    "# dense2   = Dense(256, activation = 'relu')(dense1)\n",
    "\n",
    "# #dense3   = Dense(512, activation = 'relu')(dense2) #goes to regression\n",
    "\n",
    "\n",
    "# #dense4  = Dense(1024, activation = 'relu')(dense1)\n",
    "# dense4  = Dense(256, activation = 'relu')(concat)\n",
    "# #dropout2 = Dropout(0.2)(dense4) #goes to classification\n",
    "# #dense5  = Dense(128, activation = 'relu')(dropout2) \n",
    "\n",
    "\n",
    "# #regression output\n",
    "# output_1  = Dense(1, activation = 'linear', name='r')(dense2)\n",
    "\n",
    "\n",
    "# #classification output\n",
    "# output_2  = Dense(1, activation = 'sigmoid', name='c')(dense4)\n",
    " \n",
    "# # create model with two inputs\n",
    "# model = Model(inputs=[input_1,input_2], outputs=[output_1,output_2])"
   ]
  },
  {
   "cell_type": "code",
   "execution_count": null,
   "metadata": {},
   "outputs": [],
   "source": [
    "# import tensorflow.compat.v1 as tf\n",
    "# tf.disable_v2_behavior()"
   ]
  },
  {
   "cell_type": "code",
   "execution_count": 23,
   "metadata": {},
   "outputs": [],
   "source": [
    "# ###################### TESTING ONLY CNN ###########\n",
    "\n",
    "# #input_1\n",
    "\n",
    "# input_1 = Input(shape = (4,28,1), name='i_1')                       ###### testing dilated\n",
    "# conv1_1 = Convolution2D(128, 3, activation = 'relu',padding='valid',dilation_rate=(1, 4))(input_1)\n",
    "# bn1_1 = BatchNormalization()(conv1_1)\n",
    "# conv1_2 = Convolution2D(128, 2, activation = 'relu',padding='valid',dilation_rate=(1, 4))(bn1_1)\n",
    "# bn1_2 = BatchNormalization()(conv1_2)\n",
    "\n",
    "\n",
    "# flat_1 = Flatten()(bn1_2)\n",
    " \n",
    "# # kernel_regularizer=l2(0.01), bias_regularizer=l2(0.01)\n",
    "# #\n",
    "# #\n",
    "# #input_2\n",
    "\n",
    "# input_2 = Input(shape = (4,28,1), name='i_2')                  \n",
    "# conv2_1 = Convolution2D(128, 3, activation = 'relu',padding='valid',dilation_rate=(1, 4))(input_2)\n",
    "# bn2_1 = BatchNormalization()(conv2_1)\n",
    "# conv2_2 = Convolution2D(128, 2, activation = 'relu',padding='valid',dilation_rate=(1, 4))(bn2_1)\n",
    "# bn2_2 = BatchNormalization()(conv2_2)\n",
    "\n",
    "# flat_2 = Flatten()(bn2_1)\n",
    " \n",
    "# # concatenate\n",
    "# concat   = Concatenate()([flat_1, flat_2])\n",
    "# dense1   = Dense(256, activation = 'relu', kernel_regularizer=l2(0.0005))(concat)\n",
    "# #dropout1 = Dropout(0.5)(dense1)\n",
    "# dense2   = Dense(256, activation = 'relu')(dense1)\n",
    "\n",
    "# #dense3   = Dense(512, activation = 'relu')(dense2) #goes to regression\n",
    "\n",
    "\n",
    "# #dense4  = Dense(1024, activation = 'relu')(dense1)\n",
    "# dense4  = Dense(256, activation = 'relu')(concat)\n",
    "# #dropout2 = Dropout(0.2)(dense4) #goes to classification\n",
    "# #dense5  = Dense(128, activation = 'relu')(dropout2) \n",
    "\n",
    "\n",
    "# #regression output\n",
    "# output_1  = Dense(1, activation = 'linear', name='r')(dense2)\n",
    "\n",
    "\n",
    "# #classification output\n",
    "# output_2  = Dense(1, activation = 'sigmoid', name='c')(dense4)\n",
    " \n",
    "# # create model with two inputs\n",
    "# model = Model(inputs=[input_1,input_2], outputs=[output_1,output_2])"
   ]
  },
  {
   "cell_type": "code",
   "execution_count": 1,
   "metadata": {
    "id": "tHMCMCFWfo0x"
   },
   "outputs": [],
   "source": [
    "# model.summary()"
   ]
  },
  {
   "cell_type": "code",
   "execution_count": 20,
   "metadata": {
    "id": "n7eB3kFevLK5"
   },
   "outputs": [],
   "source": [
    "# model_name  = 'only_cnn_bn_cnn_bn_l2p0005_256r_256c' #l2=0.001, 0.0005"
   ]
  },
  {
   "cell_type": "code",
   "execution_count": 2,
   "metadata": {
    "id": "o2TaBMZjwkPf"
   },
   "outputs": [],
   "source": [
    "# plot_model(model,  to_file=model_name+'.png', show_shapes=True, show_layer_names=True)"
   ]
  },
  {
   "cell_type": "code",
   "execution_count": 37,
   "metadata": {
    "id": "c0-hmvzGu-7g"
   },
   "outputs": [],
   "source": [
    "# #metrics for classification\n",
    "# metrics_c = [\n",
    "#     #keras.metrics.FalseNegatives(name=\"fn\"),\n",
    "#     #keras.metrics.FalsePositives(name=\"fp\"),\n",
    "#     #keras.metrics.TrueNegatives(name=\"tn\"),\n",
    "#     #keras.metrics.TruePositives(name=\"tp\"),\n",
    "#     #keras.metrics.BinaryAccuracy(name='accuracy'),\n",
    "#     tensorflow.keras.metrics.Precision(name=\"precision\"),\n",
    "#     tensorflow.keras.metrics.Recall(name=\"recall\"),\n",
    "#     tensorflow.keras.metrics.AUC(name=\"auc_pr\",curve=\"PR\")\n",
    "# ]\n",
    "\n",
    "# #metric_r = tfa.metrics.r_square.RSquare()\n",
    "# metric_r = tfa.metrics.r_square.RSquare(dtype=tf.float32, y_shape=(1,))"
   ]
  },
  {
   "cell_type": "code",
   "execution_count": 38,
   "metadata": {
    "id": "ivi889-qvC7i"
   },
   "outputs": [],
   "source": [
    "# #model compile is one of the most important step\n",
    "# model.compile(optimizer=tensorflow.keras.optimizers.Adam(lr=0.0001),\n",
    "#               loss={'r': 'mse','c': 'binary_crossentropy'},\n",
    "#               loss_weights={'r': 0.001,'c': 1.0},\n",
    "#               metrics={'r':[metric_r],'c':metrics_c})"
   ]
  },
  {
   "cell_type": "code",
   "execution_count": null,
   "metadata": {
    "id": "7maNGgGzzBhE"
   },
   "outputs": [],
   "source": [
    "# #model compile is one of the most important step\n",
    "# model.compile(optimizer=keras.optimizers.Adam(lr=0.0001),\n",
    "#               loss={'r': 'mse','c': 'binary_crossentropy'},\n",
    "#               loss_weights={'r': 0.0002,'c': 1.0},\n",
    "#               metrics={'r':'mse','c':metrics_c})"
   ]
  },
  {
   "cell_type": "code",
   "execution_count": 17,
   "metadata": {
    "id": "Q_vOw8QgvOBk"
   },
   "outputs": [],
   "source": [
    "\n",
    "# use of indexes to refer data later\n",
    "img_indexes = list(range(0,samples))\n",
    "\n",
    "\n",
    "#for conv2D\n",
    "off_dataset_train, off_dataset_test, target_dataset_train, target_dataset_test, Y_train, Y_test, freq_train, freq_test, train_index, test_index = train_test_split(off_dataset, target_dataset,Y,freq,img_indexes, test_size=0.1, random_state=10) \n",
    "\n",
    "\n",
    "\n",
    "\n",
    "#off_dataset_train, off_dataset_valid, target_dataset_train, target_dataset_valid, Y_train, Y_valid, freq_train, freq_valid, train_index, valid_index = train_test_split(off_dataset_train, target_dataset_train,Y_train,freq_train,train_index, test_size=1/9, random_state=2)\n",
    "\n"
   ]
  },
  {
   "cell_type": "code",
   "execution_count": null,
   "metadata": {
    "id": "zNK3O0-vbDJp"
   },
   "outputs": [],
   "source": []
  },
  {
   "cell_type": "code",
   "execution_count": 18,
   "metadata": {
    "colab": {
     "base_uri": "https://localhost:8080/"
    },
    "id": "a10y6pWav5nc",
    "outputId": "142db00d-c2de-49ff-ab35-65f163597262"
   },
   "outputs": [
    {
     "data": {
      "text/plain": [
       "((138531, 4, 28, 1), (138531, 4, 28, 1), (138531, 1), (138531, 1))"
      ]
     },
     "execution_count": 18,
     "metadata": {},
     "output_type": "execute_result"
    }
   ],
   "source": [
    "#train summary\n",
    "off_dataset_train.shape,target_dataset_train.shape,freq_train.shape,Y_train.shape"
   ]
  },
  {
   "cell_type": "code",
   "execution_count": 16,
   "metadata": {
    "id": "3JD0bMd16gda"
   },
   "outputs": [],
   "source": [
    "#validation summary\n",
    "#off_dataset_valid.shape,target_dataset_valid.shape,freq_valid.shape,Y_valid.shape"
   ]
  },
  {
   "cell_type": "code",
   "execution_count": 19,
   "metadata": {
    "colab": {
     "base_uri": "https://localhost:8080/"
    },
    "id": "gbS1yoIhwBw2",
    "outputId": "ca064afe-7603-4c73-ca85-cb4a2952784c"
   },
   "outputs": [
    {
     "data": {
      "text/plain": [
       "((15393, 4, 28, 1), (15393, 4, 28, 1), (15393, 1), (15393, 1))"
      ]
     },
     "execution_count": 19,
     "metadata": {},
     "output_type": "execute_result"
    }
   ],
   "source": [
    "#test summary\n",
    "off_dataset_test.shape, target_dataset_test.shape, freq_test.shape,Y_test.shape"
   ]
  },
  {
   "cell_type": "code",
   "execution_count": null,
   "metadata": {
    "id": "BP6fmKqdwEx6"
   },
   "outputs": [],
   "source": [
    "# early_stopping = EarlyStopping(monitor='val_loss', patience=10,restore_best_weights=True, verbose=1)"
   ]
  },
  {
   "cell_type": "code",
   "execution_count": 30,
   "metadata": {
    "id": "998xIEczwIhs"
   },
   "outputs": [],
   "source": [
    "# reduce_lr = ReduceLROnPlateau(monitor='val_loss', factor=0.5,patience=5, min_lr=0.00000001, verbose=1)"
   ]
  },
  {
   "cell_type": "code",
   "execution_count": 32,
   "metadata": {
    "id": "oF1s9Uq1UrJ2"
   },
   "outputs": [],
   "source": [
    "# #checkpoint_filepath = './checkpoints/'\n",
    "# checkpoint_filepath = 'weights-improvement-{epoch:02d}-{val_c_auc_pr:.4f}-{val_r_r_square:.4f}.hdf5'\n",
    "# model_checkpoint_callback = ModelCheckpoint(filepath=checkpoint_filepath,save_weights_only=False,monitor='val_c_auc_pr',mode='max',save_best_only=False)"
   ]
  },
  {
   "cell_type": "code",
   "execution_count": 13,
   "metadata": {
    "colab": {
     "base_uri": "https://localhost:8080/"
    },
    "id": "uNApd4jIwLIj",
    "outputId": "68662032-08fb-4162-d0cf-e50e4e04f4bc"
   },
   "outputs": [],
   "source": [
    "# try:\n",
    "#   history=model.fit([off_dataset_train,target_dataset_train],[freq_train,Y_train], \n",
    "#                   batch_size=64, epochs=70, \n",
    "#                   validation_data=([off_dataset_test,target_dataset_test],[freq_test,Y_test]),\n",
    "#                   #class_weight={0: 0.525, 1: 10.704},\n",
    "#                   #validation_split=0.1,\n",
    "#                   class_weight={'c': {0: 0.525, 1: 10.704}},\n",
    "#                   #class_weight={0: 0.525, 1: 10.704},\n",
    "#                   #callbacks=[reduce_lr,model_checkpoint_callback],\n",
    "#                     verbose=1)\n",
    "# except KeyboardInterrupt:\n",
    "#   old_history = history\n",
    "#   model.save(model_name+'.hdf5')\n",
    "#   print('Model saved to drive')"
   ]
  },
  {
   "cell_type": "code",
   "execution_count": null,
   "metadata": {
    "id": "dFqjjjHqZo_N"
   },
   "outputs": [],
   "source": [
    " #save model\n",
    "#model.save(model_name+'_epoch80'+'.hdf5')"
   ]
  },
  {
   "cell_type": "code",
   "execution_count": 18,
   "metadata": {},
   "outputs": [
    {
     "name": "stdout",
     "output_type": "stream",
     "text": [
      "WARNING:tensorflow:From /home/xinfy/anaconda3/lib/python3.7/site-packages/tensorflow/python/compat/v2_compat.py:96: disable_resource_variables (from tensorflow.python.ops.variable_scope) is deprecated and will be removed in a future version.\n",
      "Instructions for updating:\n",
      "non-resource variables are not supported in the long term\n"
     ]
    }
   ],
   "source": [
    "# #### some worked around for TF installed and TF needed\n",
    "# import tensorflow.compat.v1 as tf\n",
    "# tf.disable_v2_behavior() "
   ]
  },
  {
   "cell_type": "code",
   "execution_count": 14,
   "metadata": {
    "id": "3irnjbZyucMR"
   },
   "outputs": [],
   "source": [
    "###model = tf.keras.models.load_model('seed_07/weights-improvement-60-0.7588-0.7289.hdf5',compile=False)\n",
    "\n",
    "####model = tf.keras.models.load_model('seed_07/weights-improvement-50-0.7708-0.6933.hdf5',compile=False)"
   ]
  },
  {
   "cell_type": "code",
   "execution_count": null,
   "metadata": {
    "id": "yCwq1Ukh1SAP"
   },
   "outputs": [],
   "source": [
    "# #model compile for the load model\n",
    "# model.compile(optimizer=keras.optimizers.Adam(lr=0.0000001),\n",
    "#               loss={'r': 'mse','c': 'binary_crossentropy'},\n",
    "#               loss_weights={'r': 0.001,'c': 1.0},\n",
    "#               metrics={'r':[metric_r],'c':metrics_c})"
   ]
  },
  {
   "cell_type": "code",
   "execution_count": null,
   "metadata": {
    "id": "uDNq6_8Vqqyt"
   },
   "outputs": [],
   "source": [
    "# #training plots\n",
    "# fig = plt.figure(figsize=(10,15))\n",
    "# plt.subplot(3,2,1)\n",
    "# plt.plot(history.history['c_loss'])\n",
    "# plt.plot(history.history['val_c_loss'])\n",
    "# plt.title(\"Classification C losses\")\n",
    "# plt.ylabel(\"Classification C Losses\")\n",
    "# plt.xlabel(\"Epoch\")\n",
    "# plt.legend([\"Training Classification Loss\",\"Valid Classification Loss\"])\n",
    "# plt.subplot(3,2,2)\n",
    "# plt.plot(history.history['r_loss'])\n",
    "# plt.plot(history.history['val_r_loss'])\n",
    "# plt.title(\"Regression Loss\")\n",
    "# plt.ylabel(\"Regression Loss\")\n",
    "# plt.xlabel(\"Epoch\")\n",
    "# plt.legend([\"Training Regression Loss\",\"Validation Regression Loss\"])\n",
    "# plt.subplot(3,2,3)\n",
    "# plt.plot(history.history['r_r_square'])\n",
    "# plt.plot(history.history['val_r_r_square'])\n",
    "# plt.title(\"Regression r2\")\n",
    "# plt.ylabel(\"Regression r2\")\n",
    "# plt.xlabel(\"Epoch\")\n",
    "# plt.legend([\"Training Regression r2\",\"Valid Regression r2\"])\n",
    "# plt.subplot(3,2,4)\n",
    "# plt.plot(history.history['c_precision'])\n",
    "# plt.plot(history.history['val_c_precision'])\n",
    "# plt.title(\"Classification precision\")\n",
    "# plt.ylabel(\"Classification precision\")\n",
    "# plt.xlabel(\"Epoch\")\n",
    "# plt.legend([\"Training Classification precision\",\"Valid Classification precision\"])\n",
    "# plt.subplot(3,2,5)\n",
    "# plt.plot(history.history['c_recall'])\n",
    "# plt.plot(history.history['val_c_recall'])\n",
    "# plt.title(\"Classification recall\")\n",
    "# plt.ylabel(\"Classification recall\")\n",
    "# plt.xlabel(\"Epoch\")\n",
    "# plt.legend([\"Training Classification recall\",\"Valid Classification recall\"])\n",
    "# plt.subplot(3,2,6)\n",
    "# plt.plot(history.history['c_auc_pr'])\n",
    "# plt.plot(history.history['val_c_auc_pr'])\n",
    "# plt.title(\"Classification auc\")\n",
    "# plt.ylabel(\"Classification auc\")\n",
    "# plt.xlabel(\"Epoch\")\n",
    "# plt.legend([\"Training Classification auc\",\"Valid Classification auc\"])\n",
    "# plt.show()"
   ]
  },
  {
   "cell_type": "code",
   "execution_count": 20,
   "metadata": {
    "id": "DLku2Ro2as-f"
   },
   "outputs": [],
   "source": [
    "# ### MOdel LOAD\n",
    "\n",
    "model_loaded = 'june_rerun_models/model10_epoch40-0.8465.hdf5'  #right click copy path and paste here\n",
    "\n",
    "model = tf.keras.models.load_model(model_loaded,compile=False) #put here the model path and run all the tabs below"
   ]
  },
  {
   "cell_type": "code",
   "execution_count": 21,
   "metadata": {
    "id": "J_C1XdzpqulM"
   },
   "outputs": [],
   "source": [
    "# predict on test set\n",
    "yreg_pred_test, ycls_pred_test = model.predict([off_dataset_test,target_dataset_test])"
   ]
  },
  {
   "cell_type": "code",
   "execution_count": 22,
   "metadata": {
    "id": "whXygdilqxup"
   },
   "outputs": [],
   "source": [
    "# predict on training set\n",
    "yreg_pred_train, ycls_pred_train = model.predict([off_dataset_train,target_dataset_train])"
   ]
  },
  {
   "cell_type": "code",
   "execution_count": 23,
   "metadata": {},
   "outputs": [],
   "source": [
    "plt.style.use('classic')"
   ]
  },
  {
   "cell_type": "code",
   "execution_count": 24,
   "metadata": {
    "id": "_t1XjOKZq0Ct"
   },
   "outputs": [],
   "source": [
    "#plots\n",
    "from sklearn.metrics import precision_recall_curve\n",
    "from sklearn.metrics import average_precision_score\n",
    "from sklearn.metrics import roc_curve, auc\n",
    "\n",
    "fpr = dict()\n",
    "tpr = dict()\n",
    "roc_auc = dict()\n",
    "\n",
    "\n",
    "for i in range(1):\n",
    "    fpr[i], tpr[i], _ = roc_curve(Y_test[:, i], ycls_pred_test[:, i])\n",
    "    roc_auc[i] = auc(fpr[i], tpr[i])"
   ]
  },
  {
   "cell_type": "code",
   "execution_count": 27,
   "metadata": {
    "id": "BVs_UDshq6YO"
   },
   "outputs": [
    {
     "data": {
      "image/png": "[encoded data removed]",
      "text/plain": [
       "<Figure size 640x560 with 1 Axes>"
      ]
     },
     "metadata": {},
     "output_type": "display_data"
    }
   ],
   "source": [
    "# Plot of a ROC curve for a specific class\n",
    "fig, ax = plt.subplots(figsize=(8,7))\n",
    "ax.plot(fpr[0], tpr[0], alpha=1,linewidth=4.0, color='r')\n",
    "ax.plot([0, 1], [0, 1], 'k--')\n",
    "ax.set_ylim([0.0, 1.001])\n",
    "ax.set_xlim([0.0, 1.001])\n",
    "ax.set_yticks(np.arange(0, 1.001, 0.1))\n",
    "ax.set_xticks(np.arange(0, 1.001, 0.1))\n",
    "ax.set_xlabel('False Positive Rate', fontsize=14)\n",
    "ax.set_ylabel('True Positive Rate', fontsize=14)\n",
    "ax.set_title('ROC Curve', fontsize=14)\n",
    "ax.tick_params(axis=\"x\", labelsize=12)\n",
    "ax.tick_params(axis=\"y\", labelsize=12) \n",
    "ax.grid(linestyle='-.', linewidth=0.9)\n",
    "\n",
    "#ax.legend(fontsize=12)\n",
    "#####plt.savefig('seed10_june21_runs_roc_manuscript_best_0.9869.png', dpi=1200, bbox_inches='tight')"
   ]
  },
  {
   "cell_type": "code",
   "execution_count": 28,
   "metadata": {
    "id": "JNyZJeZtq9CN"
   },
   "outputs": [],
   "source": [
    "precision = dict()\n",
    "recall = dict()\n",
    "average_precision = dict()\n",
    "for i in range(1):\n",
    "    precision[i], recall[i], _ = precision_recall_curve(Y_test[:, i], ycls_pred_test[:, i])\n",
    "    average_precision[i] = average_precision_score(Y_test[:, i], ycls_pred_test[:, i])"
   ]
  },
  {
   "cell_type": "code",
   "execution_count": 29,
   "metadata": {
    "colab": {
     "base_uri": "https://localhost:8080/",
     "height": 466
    },
    "id": "4w2tCldMq9t4",
    "outputId": "2675d421-61a4-430f-d2ee-65e61107479a"
   },
   "outputs": [
    {
     "data": {
      "text/plain": [
       "Text(0.5, 0.1, 'aucPR=0.886')"
      ]
     },
     "execution_count": 29,
     "metadata": {},
     "output_type": "execute_result"
    },
    {
     "data": {
      "image/png": "[encoded data removed]",
      "text/plain": [
       "<Figure size 640x640 with 1 Axes>"
      ]
     },
     "metadata": {},
     "output_type": "display_data"
    }
   ],
   "source": [
    "# A \"micro-average\": quantifying score on all classes jointly\n",
    "precision[\"micro\"], recall[\"micro\"], _ = precision_recall_curve(Y_test.ravel(), ycls_pred_test.ravel())\n",
    "average_precision[\"micro\"] = average_precision_score(Y_test, ycls_pred_test, average=\"micro\")\n",
    "#print('Average precision score , micro-averaged over all classes: {0:0.2f}'\n",
    "#    .format(average_precision[\"micro\"]))\n",
    "\n",
    "fig, ax = plt.subplots(figsize=(8,8))\n",
    "ax.step(recall['micro'], precision['micro'], where='mid',linewidth=4.0,color='r')\n",
    "\n",
    "ax.set_xlabel('Recall', fontsize=14)\n",
    "ax.set_ylabel('Precision', fontsize=14)\n",
    "ax.plot([0, 1], [1, 0], 'k--')\n",
    "ax.set_ylim([0.0, 1.0001])\n",
    "ax.set_xlim([0.0, 1.0001])\n",
    "ax.set_yticks(np.arange(0, 1.0001, 0.1))\n",
    "ax.set_xticks(np.arange(0, 1.0001, 0.1))\n",
    "ax.set_title('Precision-Recall Curve', fontsize=14)\n",
    "ax.tick_params(axis=\"x\", labelsize=12)\n",
    "ax.tick_params(axis=\"y\", labelsize=12) \n",
    "ax.grid(linestyle='-.', linewidth=0.9)\n",
    "ax.text(0.5, 0.1, 'aucPR={0:0.3f}'.format(average_precision[\"micro\"]), bbox=dict(facecolor='red', alpha=0.5),fontsize=14)\n",
    "######plt.savefig('seed10_june21_runs_aupr_manuscript_best_0.886.png', dpi=1200, bbox_inches='tight')"
   ]
  },
  {
   "cell_type": "code",
   "execution_count": 30,
   "metadata": {
    "id": "LhV1_qJgrAGP"
   },
   "outputs": [],
   "source": [
    "#confusion matrix\n",
    "from sklearn.metrics import plot_confusion_matrix\n",
    "from sklearn import metrics as sklearn_metrics"
   ]
  },
  {
   "cell_type": "code",
   "execution_count": 31,
   "metadata": {
    "id": "k4GlGIg4rCw-"
   },
   "outputs": [],
   "source": [
    "y_label_pred = np.where(ycls_pred_test > 0.5, 1, 0)\n",
    "y_label_pred_train = np.where(ycls_pred_train > 0.5, 1, 0)"
   ]
  },
  {
   "cell_type": "code",
   "execution_count": 32,
   "metadata": {
    "id": "ib4Cqh_zrEsx"
   },
   "outputs": [],
   "source": [
    "# y_label_pred,y_label_pred.shape"
   ]
  },
  {
   "cell_type": "code",
   "execution_count": 129,
   "metadata": {},
   "outputs": [],
   "source": [
    "t56 = np.where(ycls_pred_test > 0.56, 1, 0)"
   ]
  },
  {
   "cell_type": "code",
   "execution_count": 130,
   "metadata": {
    "id": "GJAL6fOerG4h"
   },
   "outputs": [
    {
     "name": "stdout",
     "output_type": "stream",
     "text": [
      "[[14516   167]\n",
      " [  122   588]]\n"
     ]
    }
   ],
   "source": [
    "print(sklearn_metrics.confusion_matrix(Y_test, t56))"
   ]
  },
  {
   "cell_type": "code",
   "execution_count": 34,
   "metadata": {
    "id": "oEuhjX0qrI7L"
   },
   "outputs": [],
   "source": [
    "# tn, fp, fn, tp = sklearn_metrics.confusion_matrix(Y_test, y_label_pred).ravel()\n",
    "# print(tn, fp, fn, tp)"
   ]
  },
  {
   "cell_type": "code",
   "execution_count": 132,
   "metadata": {
    "colab": {
     "base_uri": "https://localhost:8080/"
    },
    "id": "6mPj5izIrLBW",
    "outputId": "3431e591-eecb-44b7-84f9-ff302a34d7f5"
   },
   "outputs": [
    {
     "name": "stdout",
     "output_type": "stream",
     "text": [
      "              precision    recall  f1-score   support\n",
      "\n",
      "           0      0.992     0.988     0.990     14683\n",
      "           1      0.774     0.834     0.803       710\n",
      "\n",
      "    accuracy                          0.981     15393\n",
      "   macro avg      0.883     0.911     0.896     15393\n",
      "weighted avg      0.982     0.981     0.981     15393\n",
      "\n"
     ]
    }
   ],
   "source": [
    "print(sklearn_metrics.classification_report(Y_test, y_label_pred, digits=3))"
   ]
  },
  {
   "cell_type": "code",
   "execution_count": 36,
   "metadata": {},
   "outputs": [],
   "source": [
    "#### MCC\n",
    "from sklearn.metrics import matthews_corrcoef"
   ]
  },
  {
   "cell_type": "code",
   "execution_count": 134,
   "metadata": {},
   "outputs": [
    {
     "name": "stdout",
     "output_type": "stream",
     "text": [
      "Test MCC: 0.7934069857804233\n"
     ]
    }
   ],
   "source": [
    "#print ('Train MCC: ', matthews_corrcoef(y_true, y_pred))\n",
    "print ('Test MCC:',   matthews_corrcoef(Y_test, y_label_pred))"
   ]
  },
  {
   "cell_type": "code",
   "execution_count": 38,
   "metadata": {},
   "outputs": [
    {
     "name": "stdout",
     "output_type": "stream",
     "text": [
      "Test Cohen Kappa: 0.792798348627036\n"
     ]
    }
   ],
   "source": [
    "#### Cohen Kappa Score\n",
    "from sklearn.metrics import cohen_kappa_score\n",
    "print ('Test Cohen Kappa:',   cohen_kappa_score(Y_test, y_label_pred))"
   ]
  },
  {
   "cell_type": "code",
   "execution_count": 39,
   "metadata": {},
   "outputs": [],
   "source": [
    "######## F1-MCC Score\n",
    "from mcc_f1 import mcc_f1_curve, plot_mcc_f1_curve"
   ]
  },
  {
   "cell_type": "code",
   "execution_count": 40,
   "metadata": {},
   "outputs": [],
   "source": [
    "mcc, f1, thresholds = mcc_f1_curve(Y_test, y_label_pred)"
   ]
  },
  {
   "cell_type": "code",
   "execution_count": 46,
   "metadata": {},
   "outputs": [
    {
     "data": {
      "text/plain": [
       "(array([0.89670349, 0.5       ]),\n",
       " array([0.80271186, 0.08818233]),\n",
       " array([1, 0]))"
      ]
     },
     "execution_count": 46,
     "metadata": {},
     "output_type": "execute_result"
    }
   ],
   "source": [
    "mcc, f1, thresholds"
   ]
  },
  {
   "cell_type": "code",
   "execution_count": 56,
   "metadata": {
    "id": "13-ymqQyrNM8"
   },
   "outputs": [
    {
     "data": {
      "text/plain": [
       "((138531, 1), (138531, 1))"
      ]
     },
     "execution_count": 56,
     "metadata": {},
     "output_type": "execute_result"
    }
   ],
   "source": [
    "#now regression\n",
    "freq_train.shape, yreg_pred_train.shape"
   ]
  },
  {
   "cell_type": "code",
   "execution_count": 57,
   "metadata": {
    "id": "82ZjTc0QrPLI"
   },
   "outputs": [
    {
     "data": {
      "text/plain": [
       "((15393, 1), (15393, 1))"
      ]
     },
     "execution_count": 57,
     "metadata": {},
     "output_type": "execute_result"
    }
   ],
   "source": [
    "freq_test.shape, yreg_pred_test.shape"
   ]
  },
  {
   "cell_type": "code",
   "execution_count": 58,
   "metadata": {
    "id": "NMbxzcSgrTHo"
   },
   "outputs": [],
   "source": [
    "\n",
    "## R2 calculation\n",
    "from sklearn.metrics import r2_score"
   ]
  },
  {
   "cell_type": "code",
   "execution_count": 60,
   "metadata": {
    "id": "93fOoupwrT7F"
   },
   "outputs": [
    {
     "name": "stdout",
     "output_type": "stream",
     "text": [
      "training_r2 0.8991552270959285\n",
      "test_r2 0.6723188182096322\n"
     ]
    }
   ],
   "source": [
    "print('training_r2', r2_score(freq_train, yreg_pred_train))\n",
    "print('test_r2', r2_score(freq_test, yreg_pred_test))"
   ]
  },
  {
   "cell_type": "code",
   "execution_count": 40,
   "metadata": {
    "id": "3Ek33SuNas-p"
   },
   "outputs": [],
   "source": [
    "# #### calculation using TF addon function\n",
    "# metric_reg_train = tfa.metrics.r_square.RSquare(dtype=tf.float32, y_shape=(1,))\n",
    "# metric_reg_test = tfa.metrics.r_square.RSquare(dtype=tf.float32, y_shape=(1,))"
   ]
  },
  {
   "cell_type": "code",
   "execution_count": 42,
   "metadata": {
    "id": "tmZ1jHbNas-p",
    "outputId": "d8647ae6-588e-41ed-96f8-9dd2ec00433d"
   },
   "outputs": [],
   "source": [
    "# metric_reg_train.update_state(freq_train, yreg_pred_train)\n",
    "# result_trainr2 = metric_reg_train.result().numpy()\n",
    "# print('train R2',result_trainr2)"
   ]
  },
  {
   "cell_type": "code",
   "execution_count": 43,
   "metadata": {
    "id": "pDZxLL_Was-q",
    "outputId": "a575f9e0-dce5-434b-c871-ce971992aa0b"
   },
   "outputs": [],
   "source": [
    "# metric_reg_test.update_state(freq_test, yreg_pred_test)\n",
    "# result_testr2 = metric_reg_test.result().numpy()\n",
    "# print('test R2',result_testr2)"
   ]
  },
  {
   "cell_type": "code",
   "execution_count": 78,
   "metadata": {
    "id": "-R4zp-0XrV6K"
   },
   "outputs": [],
   "source": [
    "# #fig, ax = plt.subplots()\n",
    "# fig, ax = plt.subplots(figsize=(8,8))\n",
    "# ax.scatter(freq_train, yreg_pred_train,s=5)\n",
    "# ax.plot([freq.min(), freq.max()], [freq.min(), freq.max()], 'k--', lw=1)\n",
    "# ax.set_xlabel('Actual')\n",
    "# ax.set_ylabel('Predicted')\n",
    "# ax.set_ylim([0.0, 1001])\n",
    "# ax.set_xlim([0.0, 1001])\n",
    "# ax.set_yticks(np.arange(0, 1001, 100))\n",
    "# ax.set_xticks(np.arange(0, 1001, 100))\n",
    "# ax.set_title('Training Set R2: ' + str(r2_score(freq_train, yreg_pred_train)))\n",
    "# plt.show()"
   ]
  },
  {
   "cell_type": "code",
   "execution_count": 105,
   "metadata": {
    "id": "K_ZhQMnEracQ"
   },
   "outputs": [
    {
     "data": {
      "image/png": "[encoded data removed]",
      "text/plain": [
       "<Figure size 640x640 with 1 Axes>"
      ]
     },
     "metadata": {},
     "output_type": "display_data"
    }
   ],
   "source": [
    "#fig, ax = plt.subplots()\n",
    "fig, ax = plt.subplots(figsize=(8,8))\n",
    "ax.scatter(freq_test, yreg_pred_test,s=6,alpha=0.5)\n",
    "ax.plot([freq.min(), freq.max()], [freq.min(), freq.max()], 'r--', lw=2)\n",
    "ax.set_xlabel('Actual')\n",
    "ax.set_ylabel('Predicted')\n",
    "# ax.set_yscale('log')\n",
    "# ax.set_xscale('log')\n",
    "ax.set_ylim([0.0, 1001])\n",
    "ax.set_xlim([0.0, 1001])\n",
    "ax.set_yticks(np.arange(0, 1001, 100))\n",
    "ax.set_xticks(np.arange(0, 1001, 100))\n",
    "#ax.set_title('Test Set R2: ' + str(r2_score(freq_test, yreg_pred_test)))\n",
    "plt.show()\n",
    "#####plt.savefig('seed10_june21_runs_test_r2_0p6723.png', dpi=1200, bbox_inches='tight')"
   ]
  },
  {
   "cell_type": "code",
   "execution_count": null,
   "metadata": {
    "id": "689fQSvzas-u"
   },
   "outputs": [],
   "source": [
    "# max(yreg_pred_test)"
   ]
  },
  {
   "cell_type": "code",
   "execution_count": 80,
   "metadata": {
    "id": "UNN4E4D2as-v"
   },
   "outputs": [],
   "source": [
    "########### how many of label 1 are having a regression value.\n",
    "test_zero_label = y_label_pred[y_label_pred == 0]\n",
    "test_one_label = y_label_pred[y_label_pred == 1]"
   ]
  },
  {
   "cell_type": "code",
   "execution_count": 74,
   "metadata": {
    "id": "R_mDunFtas-w"
   },
   "outputs": [],
   "source": [
    "# test_zero_label.shape, test_one_label.shape"
   ]
  },
  {
   "cell_type": "code",
   "execution_count": 81,
   "metadata": {
    "id": "pLtsT_8Fas-x"
   },
   "outputs": [],
   "source": [
    "###### regression values according to the label\n",
    "test_reg_zero_label = yreg_pred_test[y_label_pred == 0]\n",
    "test_reg_one_label = yreg_pred_test[y_label_pred == 1]"
   ]
  },
  {
   "cell_type": "code",
   "execution_count": null,
   "metadata": {
    "id": "hWEUI4LRas-y"
   },
   "outputs": [],
   "source": [
    "# test_reg_zero_label.shape, test_reg_one_label.shape"
   ]
  },
  {
   "cell_type": "code",
   "execution_count": null,
   "metadata": {
    "id": "EfkZAEmcas-z"
   },
   "outputs": [],
   "source": [
    "\n",
    "# max(test_reg_zero_label),min(test_reg_zero_label )"
   ]
  },
  {
   "cell_type": "code",
   "execution_count": null,
   "metadata": {
    "id": "zoxQVlRmas-0"
   },
   "outputs": [],
   "source": [
    "\n",
    "# max(test_reg_one_label),min(test_reg_one_label )"
   ]
  },
  {
   "cell_type": "code",
   "execution_count": null,
   "metadata": {
    "id": "kDOlR3qIas-0"
   },
   "outputs": [],
   "source": [
    "\n",
    "# np.mean(test_reg_zero_label),np.mean(test_reg_one_label )"
   ]
  },
  {
   "cell_type": "code",
   "execution_count": null,
   "metadata": {
    "id": "OBm6ojzEas-1"
   },
   "outputs": [],
   "source": [
    "# np.median(test_reg_zero_label),np.median(test_reg_one_label )"
   ]
  },
  {
   "cell_type": "code",
   "execution_count": null,
   "metadata": {
    "id": "nFYjNKeias-1"
   },
   "outputs": [],
   "source": [
    "# import matplotlib.pyplot as plt"
   ]
  },
  {
   "cell_type": "code",
   "execution_count": null,
   "metadata": {
    "id": "y0etpbgVas-1"
   },
   "outputs": [],
   "source": [
    "# plt.hist(test_reg_zero_label, bins='scott');"
   ]
  },
  {
   "cell_type": "code",
   "execution_count": null,
   "metadata": {
    "id": "2c_2Z_uyas-2"
   },
   "outputs": [],
   "source": [
    "# plt.hist(test_reg_one_label, bins='scott');"
   ]
  },
  {
   "cell_type": "code",
   "execution_count": 82,
   "metadata": {
    "id": "OKIoxw0Qas-2"
   },
   "outputs": [],
   "source": [
    "### class wise R2\n",
    "train_reg_zero_label = yreg_pred_train[y_label_pred_train ==0]\n",
    "train_reg_one_label = yreg_pred_train[y_label_pred_train ==1]"
   ]
  },
  {
   "cell_type": "code",
   "execution_count": 77,
   "metadata": {
    "id": "N6YazQdjas-3"
   },
   "outputs": [],
   "source": [
    "# train_reg_zero_label.shape, train_reg_one_label.shape, "
   ]
  },
  {
   "cell_type": "code",
   "execution_count": 78,
   "metadata": {
    "id": "JdoI9kVEas-3"
   },
   "outputs": [],
   "source": [
    "from sklearn.metrics import r2_score"
   ]
  },
  {
   "cell_type": "code",
   "execution_count": 79,
   "metadata": {
    "id": "DaXmn0qvas-3"
   },
   "outputs": [],
   "source": [
    "# freq_train[y_label_pred_train  ==1].shape, yreg_pred_train[y_label_pred_train  ==1].shape"
   ]
  },
  {
   "cell_type": "code",
   "execution_count": 80,
   "metadata": {
    "id": "5ySpEDgxas-4"
   },
   "outputs": [],
   "source": [
    "# freq_test[y_label_pred  ==1].shape, yreg_pred_test[y_label_pred  ==1].shape"
   ]
  },
  {
   "cell_type": "code",
   "execution_count": 83,
   "metadata": {
    "id": "IabnNunDas-4",
    "outputId": "3b4e787f-03f7-4e6b-8f8e-260891c8bf65"
   },
   "outputs": [
    {
     "name": "stdout",
     "output_type": "stream",
     "text": [
      "one_label_training_r2 0.8709026616857497\n",
      "one_label_test_r2 0.616442670581975\n"
     ]
    }
   ],
   "source": [
    "print('one_label_training_r2', r2_score(freq_train[y_label_pred_train ==1], train_reg_one_label))\n",
    "print('one_label_test_r2', r2_score(freq_test[y_label_pred ==1], test_reg_one_label))"
   ]
  },
  {
   "cell_type": "code",
   "execution_count": null,
   "metadata": {
    "id": "7SFmC_-vas-5"
   },
   "outputs": [],
   "source": [
    "# fig, ax = plt.subplots()\n",
    "# ax.scatter(freq_train[y_label_pred_train ==1], train_reg_one_label,s=5)\n",
    "# ax.plot([freq.min(), freq.max()], [freq.min(), freq.max()], 'k--', lw=1)\n",
    "# ax.set_xlabel('Actual')\n",
    "# ax.set_ylabel('Predicted')\n",
    "# ax.set_title('Training Set R2: ' + str(r2_score(freq_train[y_label_pred_train ==1], train_reg_one_label)))\n",
    "# plt.show()"
   ]
  },
  {
   "cell_type": "code",
   "execution_count": 100,
   "metadata": {
    "id": "7uYBNCMfas-5"
   },
   "outputs": [
    {
     "data": {
      "image/png": "[encoded data removed]",
      "text/plain": [
       "<Figure size 640x640 with 1 Axes>"
      ]
     },
     "metadata": {},
     "output_type": "display_data"
    }
   ],
   "source": [
    "#fig, ax = plt.subplots()\n",
    "fig, ax = plt.subplots(figsize=(8,8))\n",
    "ax.scatter(freq_test[y_label_pred ==1], test_reg_one_label,s=6,alpha=0.5)\n",
    "ax.plot([freq.min(), freq.max()], [freq.min(), freq.max()], 'r--', lw=2)\n",
    "ax.set_xlabel('Actual')\n",
    "ax.set_ylabel('Predicted')\n",
    "ax.set_ylim([0.0, 501])\n",
    "ax.set_xlim([0.0, 501])\n",
    "ax.set_yticks(np.arange(0, 501, 100))\n",
    "ax.set_xticks(np.arange(0, 501, 100))\n",
    "ax.set_title('Test Set R2: ' + str(r2_score(freq_test[y_label_pred ==1], test_reg_one_label)))\n",
    "plt.show()\n",
    "###plt.savefig('seed10_june21_runs_test_r2_0p6723.png', dpi=1200, bbox_inches='tight')"
   ]
  },
  {
   "cell_type": "code",
   "execution_count": 85,
   "metadata": {
    "id": "xxKJgUkHas-6"
   },
   "outputs": [],
   "source": [
    "### explained variance score\n",
    "from sklearn.metrics import explained_variance_score\n"
   ]
  },
  {
   "cell_type": "code",
   "execution_count": 86,
   "metadata": {
    "id": "efnigcrtas-7"
   },
   "outputs": [
    {
     "name": "stdout",
     "output_type": "stream",
     "text": [
      "exp var score:  train 0.919003297111685\n",
      "exp var score:  test 0.6474752587708971\n"
     ]
    }
   ],
   "source": [
    "print('exp var score:  train', explained_variance_score(freq_train[y_label_pred_train ==1], train_reg_one_label))\n",
    "print('exp var score:  test', explained_variance_score(freq_test[y_label_pred ==1], test_reg_one_label))"
   ]
  },
  {
   "cell_type": "code",
   "execution_count": 49,
   "metadata": {
    "id": "Wam3VKqAas-8"
   },
   "outputs": [],
   "source": [
    "##################### F1-MCC"
   ]
  },
  {
   "cell_type": "code",
   "execution_count": 82,
   "metadata": {
    "id": "bVYUxOBhas-9"
   },
   "outputs": [],
   "source": [
    "\n",
    "def mcc_f1(ground_truths, predicted_values):\n",
    "    \n",
    "    \"\"\"\n",
    "    The function mcc_f1 calculates MCC and F1 scores based on varying thresholds identifed by the PRC function\n",
    "    based on inputs -  ground truth vaules and predicted values.\n",
    "    \n",
    "    Parameters\n",
    "    ----------\n",
    "    ground_truths, predicted_values : numpy.ndarray;\n",
    "                        Input arrays; groundtruth values (True values) and predicted values.\n",
    "    \n",
    "    Returns\n",
    "    -------\n",
    "    mcc, f1, thresholds: numpy.ndarray;\n",
    "                           Output arrays; Unit normalized MCC scores and F1 score values \n",
    "                           for every threshold.           \n",
    "    \"\"\"\n",
    "    \n",
    "#     mcc = []   \n",
    "#     f1 = []\n",
    "   \n",
    "    \n",
    "    # Generating thresholds with the PRC function\n",
    "    precision, recall, thresholds = metrics.precision_recall_curve(\n",
    "                                    ground_truths, predicted_values)\n",
    "    \n",
    "    mcc = np.zeros((thresholds.shape))\n",
    "    f1 = np.zeros((thresholds.shape))\n",
    "    # For every value of the thresholds (cutoffs), calculate MCC and F1 scores :\n",
    "    for index,T in enumerate(thresholds):\n",
    "        predicted_values_after_cutoff = predicted_values > T  # Positive classes are determined for every predicted value that exceeds the threshold. \n",
    "    \n",
    "        ##mcc.append\n",
    "        mcc[index]=(metrics.matthews_corrcoef(ground_truths, predicted_values_after_cutoff)+1)*0.5 # get normalised MCC: change the range of MCC from [-1, 1] to [0, 1] \n",
    "        \n",
    "        ###f1.append(\n",
    "        f1[index]=metrics.f1_score(ground_truths, predicted_values_after_cutoff)\n",
    "        \n",
    "    #mcc = np.array(mcc)\n",
    "    #f1 = np.array(f1)  \n",
    "    \n",
    "    # Resulting values are an array of MCC & F1 scores across different thresholds (cutoffs)  \n",
    "    return mcc,f1, thresholds"
   ]
  },
  {
   "cell_type": "code",
   "execution_count": 103,
   "metadata": {},
   "outputs": [],
   "source": [
    "from tqdm import tqdm\n",
    "\n",
    "def MCC_F1_Metric(mcc,f1,thresholds, W_num_of_subranges = 100):\n",
    "    \n",
    "    \"\"\"\n",
    "    MCC_F1_Metric function computes the MCC-F1 metric i.e. the average distances between the predcition scores to the point of Perfect Performace (1,1) \n",
    "    and also results in the best threshold value\n",
    "    \n",
    "    Parameters\n",
    "    ----------\n",
    "    \n",
    "    mcc,f1, thresholds : numpy.ndarray;\n",
    "                        MCC and F1 scores across varying thresholds\n",
    "    \n",
    "    W_num_of_subranges : int, optional;\n",
    "        Number of subranges- default = 100; \n",
    "        larger values of 𝑊 will cause the MCC-𝐹1 metric to capture the performance of a classifier more accurately.\n",
    "    \n",
    "    Returns\n",
    "    -------\n",
    "    MCC_F1_Met : float;\n",
    "                The ratio of the average distance of the MCC-F1 score to the Point of Perfect Performace (1,1)\n",
    "                A metric to compare classifier performance.\n",
    "    \n",
    "    Best_threshold : int;\n",
    "                Index of the best prediction score threshold (𝑇), \n",
    "                Index of the point on the MCC-𝐹1 curve closest to the point of perfect performance (1,1).\n",
    "    \n",
    "    \"\"\"\n",
    "    \n",
    "     \n",
    "    subrange_intervals = np.linspace(np.min(mcc), np.max(mcc),W_num_of_subranges) # breaking into subranges\n",
    "    \n",
    "    # Computing MCC values per subrange\n",
    "    \n",
    "    values_per_subrange = np.zeros_like(subrange_intervals) # 'n' is the number of points per subrange\n",
    "    for i in range(W_num_of_subranges-1):\n",
    "        for j in mcc:\n",
    "            if j >= subrange_intervals[i] and j < subrange_intervals[i+1]:\n",
    "                values_per_subrange[i] = values_per_subrange[i] + 1\n",
    "\n",
    "    # Calculating the distances between points in a subrange to the Point of perfect performance (1,1)            \n",
    "    Distance_of_points_within_subrange = np.sqrt(((mcc-1)**2)+((f1-1)**2)) # calculating the Euclidean distance 𝐷𝑖            \n",
    "    sum_of_distance_within_subrange = np.zeros_like(subrange_intervals)\n",
    "    index = -1\n",
    "    for value in mcc:\n",
    "        index += 1\n",
    "        for i in range(W_num_of_subranges-1):\n",
    "                 if value >= subrange_intervals[i] and value < subrange_intervals[i+1]:\n",
    "                        sum_of_distance_within_subrange[i] = sum_of_distance_within_subrange[i] + Distance_of_points_within_subrange[index]\n",
    "\n",
    "    # Mean Distance across subranges\n",
    "    mean_Distance_per_subrange = np.array(sum_of_distance_within_subrange/values_per_subrange)\n",
    "    total_number_of_subranges = 0  \n",
    "    total_sum_of_mean_distances = 0\n",
    "    for i in mean_Distance_per_subrange:\n",
    "        if not np.isnan(i):\n",
    "            total_number_of_subranges += 1 \n",
    "            total_sum_of_mean_distances += i # addition of all the means across subranges that have atleast 1 MCC value.\n",
    "\n",
    "    grand_mean_distance = total_sum_of_mean_distances/total_number_of_subranges # P = total number of subranges that have atleast 1 MCC value\n",
    "   \n",
    "    \"\"\" \n",
    "    Compare the grand average distance to √2 (The distance between the point of worst performance (0,0) and \n",
    "    the point of perfect performance (1,1) is √2).That is the maximum possible distance between a point on the MCC-𝐹1 curve\n",
    "    The ratio between the grand avgerage distance and √2 is taken.\n",
    "    This ratio ranges between 0 and 1 (worst value = 0; best value = 1). To get the MCC-𝐹1 score, we subtract this ratio from 1\n",
    "    \"\"\"\n",
    "\n",
    "    MCC_F1_Met = 1 - (grand_mean_distance /np.sqrt(2))\n",
    "  \n",
    "    \n",
    "    # Finding the best threshold 𝑇 the point on the MCC-𝐹1 curve closest to the point of perfect performance (1,1).\n",
    "   \n",
    "    result = np.where(Distance_of_points_within_subrange == Distance_of_points_within_subrange.min())\n",
    "    Best_threshold = result[0][0]\n",
    "    \n",
    "    print(\"MCC-F1 metric = {0:.2f}\".format(MCC_F1_Met), \"Best Threshold = {0:.2f}\".format(thresholds[Best_threshold]))\n",
    "    \n",
    "    return MCC_F1_Met,Best_threshold"
   ]
  },
  {
   "cell_type": "code",
   "execution_count": 156,
   "metadata": {},
   "outputs": [],
   "source": [
    "# Generating a plot (the overall canvas);\n",
    "axis = None\n",
    "def axis_plotting(total_plots): \n",
    "    global axis\n",
    "    if axis == None:\n",
    "        fig = plt.figure(figsize=(7,7))\n",
    "        axis = []        \n",
    "        for i in range(1,total_plots+1):\n",
    "            ax = fig.add_subplot(total_plots, 1, i)\n",
    "            axis.append(ax)\n",
    "            \n",
    "    \n",
    "def plotting(mcc, f1, thresholds,MCC_F1_Met,Best_threshold,classifer_name = \"\",total_plots = 1,ax = 0):\n",
    "    \n",
    "        \"\"\"\n",
    "        Plotting function - fuction to plot the MCC and F1 scores (across varying Thresholds), and highlight the the MCC_F1 metric with the best threshold\n",
    "        For multiple plots, 'total_plots' should be > 1 AND 'ax' (< total_plots) starting from  1\n",
    "    \n",
    "        Parameters\n",
    "        ----------\n",
    "        mcc,f1 : numpy.ndarray;\n",
    "            MCC and F1 scores across varying thresholds\n",
    "    \n",
    "        MCC_F1_Met : float;\n",
    "                The ratio of the average distance of the MCC-F1 score to the Point of Perfect Performace (1,1)\n",
    "                A metric to compare classifier performance.\n",
    "    \n",
    "        Best_threshold : int;\n",
    "                Index of the best prediction score threshold (𝑇), \n",
    "                Index of the point on the MCC-𝐹1 curve closest to the point of perfect performance (1,1).\n",
    "                \n",
    "        classifer_name : str, optional\n",
    "                    default = \"\"\n",
    "    \n",
    "        total_plots: int, optional\n",
    "                    Number of sub-plots to generate; default = 1\n",
    "    \n",
    "        ax : int, optional\n",
    "            Index of subplot ([1,2,3...]); default = None\n",
    "    \n",
    "                            \n",
    "        Returns\n",
    "        -------\n",
    "        \n",
    "        MCC-F1 curve: \n",
    "            for multiple sublplots, adjust total_plots and ax input value.\n",
    "                        \n",
    "        \"\"\"\n",
    "        \n",
    "        global axis\n",
    "        if total_plots > 1 and ax < total_plots: # if more than 1 total plot is mentioned;\n",
    "            axis_plotting(total_plots) #calling function to generate plot;\n",
    "            if ax == 0:\n",
    "                subplot = plt.gca() # plot on current axis value, \n",
    "            else:\n",
    "                subplot = axis[ax-1] # plotting additional graphs based on index of the axis.\n",
    "        elif ax > total_plots:\n",
    "            print(\"Index inconsistent with total_plots\")\n",
    "        else:\n",
    "            axis = None\n",
    "            subplot = plt.gca() # plot on base plot if no additional subplots are needed\n",
    "      \n",
    "        # Labelling the plot;\n",
    "        subplot.plot(f1,mcc,linewidth=4,color='r')\n",
    "        subplot.annotate(classifer_name, #+ \"MCC-F1-Metric - {0:.2f}\".format(MCC_F1_Met), \n",
    "                 (f1[Best_threshold],mcc[Best_threshold]), \n",
    "                 textcoords=\"offset points\", \n",
    "                 xytext=(1,1),\n",
    "                 ha='left') \n",
    "        \n",
    "        subplot.scatter(f1[Best_threshold],mcc[Best_threshold],color='g',linewidth=4)\n",
    "        subplot.set(xlabel='F1 score',\n",
    "               ylabel='unit−normalized MCC',title='Test Set MCC-F1 curve')\n",
    "        \n",
    "        # Inserting Random line\n",
    "        subplot.axhline(0.5,linewidth=2, color='blue',linestyle='--')\n",
    "        subplot.annotate('Random prediction line',xy =(0,0.5),xytext=(250,-15),\n",
    "                    color='b', xycoords = subplot.get_yaxis_transform(), \n",
    "                    textcoords=\"offset points\", va=\"bottom\")\n",
    "\n",
    "\n",
    "        # Displaying and labelling points of performances.\n",
    "\n",
    "        subplot.scatter(1,1,color = 'black',linewidth=4);subplot.scatter(0,0,color = 'black',linewidth=4)\n",
    "        subplot.annotate('Point of Perfect performance',(1,1),\n",
    "                    textcoords=\"offset points\",xytext=(-9,-2),ha='right',size=14)\n",
    "        subplot.annotate('Point of Worst performance',(0,0)\n",
    "                    ,textcoords=\"offset points\",xytext=(9,2),ha='left',size=14)\n",
    "        \n",
    "        subplot.set_xticks(np.arange(0, 1.1, 0.1)); subplot.set_yticks(np.arange(0, 1.1, 0.1))\n",
    "        subplot.set_xlim(-0.05,1.05); subplot.set_ylim(-0.05,1.05)\n",
    "        subplot.grid(alpha = 0.3)"
   ]
  },
  {
   "cell_type": "code",
   "execution_count": 105,
   "metadata": {},
   "outputs": [
    {
     "name": "stdout",
     "output_type": "stream",
     "text": [
      "MCC-F1 metric = 0.55 Best Threshold = 0.94\n"
     ]
    },
    {
     "name": "stderr",
     "output_type": "stream",
     "text": [
      "/home/xinfy/anaconda3/lib/python3.7/site-packages/ipykernel_launcher.py:53: RuntimeWarning: invalid value encountered in true_divide\n"
     ]
    }
   ],
   "source": [
    "####mcc,f1,thresholds = mcc_f1(Y_train, y_label_pred_train) ###train\n",
    "#mcc,f1,thresholds = mcc_f1(Y_test, ycls_pred_test)\n",
    "# MCC_F1_Met,T_index = MCC_F1_Metric(mcc,f1,thresholds,W_num_of_subranges=100)"
   ]
  },
  {
   "cell_type": "code",
   "execution_count": 84,
   "metadata": {},
   "outputs": [
    {
     "data": {
      "text/plain": [
       "array([0.55782478, 0.55784697, 0.55785807, ..., 0.62980102, 0.62448453,\n",
       "       0.5       ])"
      ]
     },
     "execution_count": 84,
     "metadata": {},
     "output_type": "execute_result"
    }
   ],
   "source": [
    "mcc"
   ]
  },
  {
   "cell_type": "code",
   "execution_count": 85,
   "metadata": {},
   "outputs": [
    {
     "data": {
      "text/plain": [
       "array([0.11135543, 0.11137292, 0.11138167, ..., 0.13157895, 0.12169312,\n",
       "       0.        ])"
      ]
     },
     "execution_count": 85,
     "metadata": {},
     "output_type": "execute_result"
    }
   ],
   "source": [
    "f1"
   ]
  },
  {
   "cell_type": "code",
   "execution_count": 86,
   "metadata": {},
   "outputs": [
    {
     "data": {
      "text/plain": [
       "array([6.255587e-19, 6.266191e-19, 6.285583e-19, ..., 9.999998e-01,\n",
       "       9.999999e-01, 1.000000e+00], dtype=float32)"
      ]
     },
     "execution_count": 86,
     "metadata": {},
     "output_type": "execute_result"
    }
   ],
   "source": [
    "thresholds"
   ]
  },
  {
   "cell_type": "code",
   "execution_count": 97,
   "metadata": {},
   "outputs": [
    {
     "data": {
      "text/plain": [
       "0.5558215445005983"
      ]
     },
     "execution_count": 97,
     "metadata": {},
     "output_type": "execute_result"
    }
   ],
   "source": [
    "MCC_F1_Met"
   ]
  },
  {
   "cell_type": "code",
   "execution_count": 98,
   "metadata": {},
   "outputs": [
    {
     "data": {
      "text/plain": [
       "10131"
      ]
     },
     "execution_count": 98,
     "metadata": {},
     "output_type": "execute_result"
    }
   ],
   "source": [
    "T_index"
   ]
  },
  {
   "cell_type": "code",
   "execution_count": 158,
   "metadata": {},
   "outputs": [
    {
     "data": {
      "image/png": "[encoded data removed]",
      "text/plain": [
       "<Figure size 640x480 with 1 Axes>"
      ]
     },
     "metadata": {},
     "output_type": "display_data"
    }
   ],
   "source": [
    "plotting(mcc,f1,thresholds,MCC_F1_Met,T_index, classifer_name='CNN-biLSTM ')\n",
    "plt.savefig('MCC-F1-CNNbiLSTM-best-model.png', dpi=1200, bbox_inches='tight')"
   ]
  },
  {
   "cell_type": "code",
   "execution_count": null,
   "metadata": {},
   "outputs": [],
   "source": []
  }
 ],
 "metadata": {
  "colab": {
   "collapsed_sections": [],
   "name": "multitasker_crispr.ipynb",
   "provenance": []
  },
  "kernelspec": {
   "display_name": "Python 3",
   "language": "python",
   "name": "python3"
  },
  "language_info": {
   "codemirror_mode": {
    "name": "ipython",
    "version": 3
   },
   "file_extension": ".py",
   "mimetype": "text/x-python",
   "name": "python",
   "nbconvert_exporter": "python",
   "pygments_lexer": "ipython3",
   "version": "3.7.4"
  }
 },
 "nbformat": 4,
 "nbformat_minor": 4
}
